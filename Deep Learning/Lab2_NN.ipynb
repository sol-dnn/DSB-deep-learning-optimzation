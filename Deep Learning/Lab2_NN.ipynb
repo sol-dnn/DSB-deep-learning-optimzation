{
 "cells": [
  {
   "cell_type": "markdown",
   "metadata": {
    "id": "NBF8yvnWTjfO"
   },
   "source": [
    "# Lab 3 - Pytorch"
   ]
  },
  {
   "cell_type": "markdown",
   "metadata": {
    "id": "kkQzBHHLTjfS"
   },
   "source": [
    "## Table of content\n",
    "\n",
    "[1. Pytorch basics](#basics)<br>\n",
    "- [1.1 Pytorch tutorials](#tutorials)<br>\n",
    "- [1.2 Neural Network in Pytorch](#NNPytorch)<br>\n",
    "\n",
    "\n",
    "[2. Simple Example for handling images](#SimpleExampleImage)<br>\n",
    "- [2.1  Loading MNIST dataset ](#LoadMNIST)<br>\n",
    "- [2.2  Normalization  ](#Normalization)<br>\n",
    "- [2.3  Train a Neural Network in Pytorch ](#TrainNNPytorch)<br>\n",
    "- [2.4  Train more classical ML algorithms](#ML)<br>\n",
    "\n",
    "[Bonus 1. Backpropagation](#B1)<br>\n",
    "\n",
    "[Bonus 2. NN Playground](#B2)<br>\n",
    "\n",
    "\n",
    "\n",
    "\n",
    "\n",
    "\n"
   ]
  },
  {
   "cell_type": "markdown",
   "metadata": {
    "id": "q5SA41B1TjfV"
   },
   "source": [
    "**Import the following libraries and check that Pytorch is running on your computer.**"
   ]
  },
  {
   "cell_type": "code",
   "execution_count": 1,
   "metadata": {
    "scrolled": true
   },
   "outputs": [],
   "source": [
    "#pip install numpy pandas matplotlib torch torchvision\n"
   ]
  },
  {
   "cell_type": "code",
   "execution_count": 2,
   "metadata": {},
   "outputs": [],
   "source": [
    "#pip install --upgrade torch torchvision\n"
   ]
  },
  {
   "cell_type": "code",
   "execution_count": 3,
   "metadata": {},
   "outputs": [],
   "source": [
    "#pip install torch torchvision"
   ]
  },
  {
   "cell_type": "code",
   "execution_count": 4,
   "metadata": {},
   "outputs": [],
   "source": [
    "#pip install torchsummary "
   ]
  },
  {
   "cell_type": "code",
   "execution_count": 5,
   "metadata": {
    "id": "otQchY9HTjfX",
    "tags": []
   },
   "outputs": [],
   "source": [
    "from __future__ import print_function\n",
    "from __future__ import division\n",
    "\n",
    "import os\n",
    "import time\n",
    "\n",
    "import numpy as np\n",
    "import pandas\n",
    "import matplotlib.pyplot as plt\n",
    "\n",
    "import torch\n",
    "from torch import nn\n",
    "import torch.nn.functional as F\n",
    "import torch.optim as optim\n",
    "from torchvision import datasets, transforms, utils\n",
    "from torch.utils.data import Dataset, DataLoader\n",
    "from torch.optim.lr_scheduler import ReduceLROnPlateau"
   ]
  },
  {
   "cell_type": "code",
   "execution_count": 6,
   "metadata": {
    "colab": {
     "base_uri": "https://localhost:8080/"
    },
    "id": "HOBVu-jITjfZ",
    "outputId": "e13acbbe-2c41-41f5-9f64-ef72524c4624",
    "tags": []
   },
   "outputs": [
    {
     "name": "stdout",
     "output_type": "stream",
     "text": [
      "\n",
      "\n",
      "(If this cell runs for more than 30 seconds, stop it and rerun it.) \n",
      "\n",
      "\n",
      "Enter your name: \n",
      " -->\n",
      "\n",
      " \n",
      " Your teacher: depending on your teacher, enter either \n",
      " - ataylor \n",
      " - pascalbianchi \n",
      " - constantin.philippenko \n",
      " - renaud.gaucher \n",
      "-->\n",
      "\n",
      " \n",
      " You should get as an output <Response [200]> below. If not, you probably have a typo in the teacher name, retry :)\n"
     ]
    },
    {
     "data": {
      "text/plain": [
       "<Response [400]>"
      ]
     },
     "execution_count": 6,
     "metadata": {},
     "output_type": "execute_result"
    }
   ],
   "source": [
    "\n",
    "print('\\n\\n(If this cell runs for more than 30 seconds, stop it and rerun it.) \\n\\n')\n",
    "\n",
    "\n",
    "import requests\n",
    "exec(requests.get(\"https://raw.githubusercontent.com/claireBoyer/tutorial-conformal-prediction/main/labs/aux-npt/get-send-code.html\").content)\n",
    "\n",
    "\n",
    "# Replace 'TO_UPDATE' with the appropriate session information\n",
    "npt_config = {'session_name': 'Lab3-Map545',}\n",
    "\n",
    "\n",
    "# Prompt for the sender's name\n",
    "npt_config['sender_name'] = input(\"Enter your name: \\n -->\")\n",
    "npt_config['session_owner'] = input(\"\\n \\n Your teacher: depending on your teacher, enter either \\n - ataylor \\n - pascalbianchi \\n - constantin.philippenko \\n - renaud.gaucher \\n-->\") #  \n",
    "\n",
    "print('\\n \\n You should get as an output <Response [200]> below. If not, you probably have a typo in the teacher name, retry :)')\n",
    "\n",
    "send('started', 0)\n"
   ]
  },
  {
   "cell_type": "markdown",
   "metadata": {
    "id": "3V0LgOfHTjfc"
   },
   "source": [
    "<a id='basics'></a>\n",
    "# 1 - Pytorch basics\n",
    "\n"
   ]
  },
  {
   "cell_type": "markdown",
   "metadata": {
    "id": "_i2TrNyETjfe"
   },
   "source": [
    "<a id='tutorials'></a>\n",
    "\n",
    "## 1.1 - Pytorch tutorials"
   ]
  },
  {
   "cell_type": "markdown",
   "metadata": {
    "id": "ltEeIKrvTjfg"
   },
   "source": [
    "Look at the following two tutorials: \n",
    "- How to write tensor operations: \n",
    "\n",
    "    https://pytorch.org/tutorials/beginner/blitz/tensor_tutorial.html#sphx-glr-beginner-blitz-tensor-tutorial-py\n",
    "- A list of functions that are available in PyTorch:\n",
    "\n",
    "    https://pytorch.org/docs/stable/torch.html\n",
    "- How to define and train a neural network in PyTorch \n",
    "\n",
    "    https://pytorch.org/tutorials/beginner/blitz/neural_networks_tutorial.html#sphx-glr-beginner-blitz-neural-networks-tutorial-py\n",
    "- More information on neural networks with PyTorch can be found here\n",
    "\n",
    "    https://pytorch.org/docs/stable/nn.html"
   ]
  },
  {
   "cell_type": "markdown",
   "metadata": {
    "id": "IFlDB5udTjfi"
   },
   "source": [
    "<a id='NNPytorch'></a>\n",
    "\n",
    "## 1.2 - Neural Network in Pytorch"
   ]
  },
  {
   "cell_type": "markdown",
   "metadata": {
    "id": "47wu8d1rTjfk"
   },
   "source": [
    "Here is an example of a simple neural network architecture in Python"
   ]
  },
  {
   "cell_type": "code",
   "execution_count": 9,
   "metadata": {
    "id": "zoGCwQ4TTjfm"
   },
   "outputs": [],
   "source": [
    "class Network(nn.Module):\n",
    "    def __init__(self):\n",
    "        super().__init__()\n",
    "        \n",
    "        # Inputs to hidden layer linear transformation\n",
    "        self.hidden = nn.Linear(784, 256)\n",
    "        # Output layer, 10 units - one for each digit\n",
    "        self.output = nn.Linear(256, 10)\n",
    "        \n",
    "        \n",
    "#self.hidden is a linear layer with 784 input features and 256 output features.\n",
    "#The number 784 corresponds to the input size, which could represent, a 28x28 image flattened into a single vector\n",
    "\n",
    "# self.output is another linear layer that takes the 256 features from the hidden layer and outputs 10 features\n",
    "# which correspond to the class scores for each of the 10 possible digits (0 through 9)\n",
    "\n",
    "\n",
    "        # Define sigmoid activation and softmax output \n",
    "        self.sigmoid = nn.Sigmoid()\n",
    "        self.softmax = nn.Softmax(dim=1)\n",
    "        \n",
    "    def forward(self, x):\n",
    "        # Pass the input tensor through each of our operations\n",
    "        x = self.hidden(x)\n",
    "        x = self.sigmoid(x)\n",
    "        x = self.output(x)\n",
    "        x = self.softmax(x)\n",
    "        \n",
    "        return x\n",
    "    \n",
    "    \n",
    "# forward method defines the data flow through the network:\n",
    "#Input x is passed through the hidden layer, the Sigmoid function, the output layer, and the Softmax function.\n",
    "#The result of the forward method is the predicted probabilities for each of the 10 digit classes.\n"
   ]
  },
  {
   "cell_type": "code",
   "execution_count": 10,
   "metadata": {},
   "outputs": [
    {
     "data": {
      "text/plain": [
       "Network(\n",
       "  (hidden): Linear(in_features=784, out_features=256, bias=True)\n",
       "  (output): Linear(in_features=256, out_features=10, bias=True)\n",
       "  (sigmoid): Sigmoid()\n",
       "  (softmax): Softmax(dim=1)\n",
       ")"
      ]
     },
     "execution_count": 10,
     "metadata": {},
     "output_type": "execute_result"
    }
   ],
   "source": [
    "model1=Network()\n",
    "model1"
   ]
  },
  {
   "cell_type": "markdown",
   "metadata": {
    "id": "omePxEEQTjfo"
   },
   "source": [
    "**1) What does the dim  argument in Softmax correspond to?**"
   ]
  },
  {
   "cell_type": "markdown",
   "metadata": {},
   "source": [
    "The dim argument in the Softmax function specifies the dimension along which the Softmax function is applied.\n",
    "\n",
    "When dim=1, it means that the Softmax function should calculate probabilities across the columns, not the rows. In other words, for a given mini-batch of data, the function will be applied to the second dimension (where the first dimension is the batch dimension), which is typically where the class scores for each sample are located.\n",
    "This ensures that each row of outputs (each corresponding to a different sample in the batch) sums to 1, as we want to have a probability distribution over the classes for each sample.\n",
    "\n",
    "\n",
    "In a neural network for classification, the output is often a 2D tensor where each row corresponds to a sample and each column corresponds to a class score. By setting dim=1, we're telling Softmax to convert these scores into probabilities for each sample independently."
   ]
  },
  {
   "cell_type": "code",
   "execution_count": 11,
   "metadata": {
    "colab": {
     "base_uri": "https://localhost:8080/"
    },
    "id": "rKlkC94CTjfo",
    "outputId": "1deefe5d-0cc7-4f1c-b1f7-5afc88e8899e",
    "scrolled": false
   },
   "outputs": [
    {
     "name": "stdout",
     "output_type": "stream",
     "text": [
      "This is a tensor \n",
      " tensor([[0.9492, 0.3755, 0.2931],\n",
      "        [0.5107, 0.6712, 0.9131]]) \n",
      "\n",
      "This is the output of the softmax operation with dim=1 \n",
      " tensor([[0.4802, 0.2706, 0.2492],\n",
      "        [0.2725, 0.3200, 0.4075]]) \n",
      "\n",
      "This is the output of the operation with dim=0 \n",
      " tensor([[0.6079, 0.4266, 0.3498],\n",
      "        [0.3921, 0.5734, 0.6502]]) \n",
      "\n",
      "This is a tensor \n",
      " tensor([[1., 1., 1.],\n",
      "        [1., 1., 1.]]) \n",
      "\n",
      "This is the output of the softmax operation with dim=1 \n",
      " tensor([[0.3333, 0.3333, 0.3333],\n",
      "        [0.3333, 0.3333, 0.3333]]) \n",
      "\n",
      "This is the output of the operation with dim=0 \n",
      " tensor([[0.5000, 0.5000, 0.5000],\n",
      "        [0.5000, 0.5000, 0.5000]]) \n",
      "\n"
     ]
    }
   ],
   "source": [
    "# Consider the following tensor\n",
    "u = torch.rand(2,3) #2x3 matrix is a random float between 0 and 1.\n",
    "print(\"This is a tensor\", '\\n', u,'\\n' )\n",
    "\n",
    "outputdim1 = F.softmax(u, dim=1)\n",
    "print(\"This is the output of the softmax operation with dim=1\", '\\n', outputdim1,'\\n' )\n",
    "\n",
    "outputdim0 = F.softmax(u, dim=0)\n",
    "print(\"This is the output of the operation with dim=0\", '\\n', outputdim0,'\\n' )\n",
    "\n",
    "\n",
    "# Consider the following tensor\n",
    "u2 = torch.ones(2,3)\n",
    "print(\"This is a tensor\", '\\n', u2,'\\n' )\n",
    "\n",
    "outputdim1 = F.softmax(u2, dim=1)\n",
    "print(\"This is the output of the softmax operation with dim=1\", '\\n', outputdim1,'\\n' )\n",
    "\n",
    "outputdim0 = F.softmax(u2, dim=0)\n",
    "print(\"This is the output of the operation with dim=0\", '\\n', outputdim0,'\\n' )"
   ]
  },
  {
   "cell_type": "markdown",
   "metadata": {},
   "source": [
    "**Hence: how do you interpret the dim argument?**\n",
    "    \n",
    "\n",
    "The dim argument in the softmax function specifies the dimension over which the softmax operation is applied. When using dim=1, the softmax is calculated along the columns, normalizing each row of the input tensor to a probability distribution. With dim=0, it is applied along the rows, normalizing each column of the input tensor. In the context of neural networks, dim=1 is commonly used for a batch of input data, ensuring each output row sums to 1 and represents a probability distribution across classes.\n"
   ]
  },
  {
   "cell_type": "markdown",
   "metadata": {
    "id": "BudSdKNUTjfp"
   },
   "source": [
    "**2) What is the shape of this neural network? What is the shape of the inputs, outputs? What are the activation functions? What is the total number of trainaible parameters?**"
   ]
  },
  {
   "cell_type": "code",
   "execution_count": 12,
   "metadata": {
    "colab": {
     "base_uri": "https://localhost:8080/"
    },
    "id": "gpvN4ZZZTjfq",
    "outputId": "30d45a9f-c957-49b8-c7d9-76b0855dcc3a"
   },
   "outputs": [
    {
     "data": {
      "text/plain": [
       "Network(\n",
       "  (hidden): Linear(in_features=784, out_features=256, bias=True)\n",
       "  (output): Linear(in_features=256, out_features=10, bias=True)\n",
       "  (sigmoid): Sigmoid()\n",
       "  (softmax): Softmax(dim=1)\n",
       ")"
      ]
     },
     "execution_count": 12,
     "metadata": {},
     "output_type": "execute_result"
    }
   ],
   "source": [
    "# Create the network \n",
    "model1 = Network()\n",
    "model1"
   ]
  },
  {
   "cell_type": "markdown",
   "metadata": {},
   "source": [
    "**Input Shape:** The input shape is not explicitly defined in the Network class, but the first linear layer (self.hidden) suggests that the input tensor should have 784 features.  \n",
    "**Hidden Layer:** There's one hidden layer with 256 neurons (self.hidden), which uses a Sigmoid activation function (self.sigmoid).    \n",
    "**Output Shape:** The output layer (self.output) has 10 neurons, one for each class, and uses a Softmax activation function (self.softmax) to produce a probability distribution over the 10 classes.\n",
    " \n",
    " \n",
    "You can access a description of the network architecture using  `model1`\n",
    "\n",
    "\n",
    "**For self.hidden (from input to hidden layer):  \n",
    "Weights: 784 (input features) * 256 (neurons) = 200,704    \n",
    "Biases: 256 (one bias per neuron)**      \n",
    "\n",
    "\n",
    "**For self.output (from hidden layer to output):     \n",
    "Weights: 256 (neurons in hidden layer) * 10 (output features) = 2,560     \n",
    "Biases: 10 (one bias per output neuron**     \n",
    "\n",
    "\n",
    "Total number of trainable parameters = (200,704 + 256) + (2,560 + 10) = 203,530\n",
    "\n",
    "The number of trainaible parameters is equal to (784 + 1) * 256 + (256 + 1) * 10 = 203,530.\n"
   ]
  },
  {
   "cell_type": "markdown",
   "metadata": {},
   "source": [
    "**3) What is the total size (in MB) of this Neural Network ? You may want to use the torchsummary package. Check also that the number of trainable parameters match the one you computed.**"
   ]
  },
  {
   "cell_type": "markdown",
   "metadata": {},
   "source": [
    "**Total Model Size (in bytes) = Total Number of Parameters * 4  \n",
    "Total Model Size (in MB) = Total Model Size (in bytes) / (1024 * 1024)**"
   ]
  },
  {
   "cell_type": "code",
   "execution_count": 29,
   "metadata": {},
   "outputs": [
    {
     "ename": "RuntimeError",
     "evalue": "mat1 and mat2 shapes cannot be multiplied (2x3072 and 784x256)",
     "output_type": "error",
     "traceback": [
      "\u001b[0;31m---------------------------------------------------------------------------\u001b[0m",
      "\u001b[0;31mRuntimeError\u001b[0m                              Traceback (most recent call last)",
      "Cell \u001b[0;32mIn[29], line 5\u001b[0m\n\u001b[1;32m      1\u001b[0m \u001b[38;5;28;01mfrom\u001b[39;00m \u001b[38;5;21;01mtorchsummary\u001b[39;00m \u001b[38;5;28;01mimport\u001b[39;00m summary\n\u001b[1;32m      3\u001b[0m \u001b[38;5;66;03m# call the \"summary\" operation with the good arguments\u001b[39;00m\n\u001b[0;32m----> 5\u001b[0m summary(model1, input_size\u001b[38;5;241m=\u001b[39m(\u001b[38;5;241m3072\u001b[39m,))\n\u001b[1;32m      7\u001b[0m total_params \u001b[38;5;241m=\u001b[39m \u001b[38;5;28msum\u001b[39m(p\u001b[38;5;241m.\u001b[39mnumel() \u001b[38;5;28;01mfor\u001b[39;00m p \u001b[38;5;129;01min\u001b[39;00m model1\u001b[38;5;241m.\u001b[39mparameters() \u001b[38;5;28;01mif\u001b[39;00m p\u001b[38;5;241m.\u001b[39mrequires_grad)\n\u001b[1;32m      8\u001b[0m total_size_bytes \u001b[38;5;241m=\u001b[39m total_params \u001b[38;5;241m*\u001b[39m \u001b[38;5;241m4\u001b[39m\n",
      "File \u001b[0;32m~/anaconda3/lib/python3.11/site-packages/torchsummary/torchsummary.py:72\u001b[0m, in \u001b[0;36msummary\u001b[0;34m(model, input_size, batch_size, device)\u001b[0m\n\u001b[1;32m     68\u001b[0m model\u001b[38;5;241m.\u001b[39mapply(register_hook)\n\u001b[1;32m     70\u001b[0m \u001b[38;5;66;03m# make a forward pass\u001b[39;00m\n\u001b[1;32m     71\u001b[0m \u001b[38;5;66;03m# print(x.shape)\u001b[39;00m\n\u001b[0;32m---> 72\u001b[0m model(\u001b[38;5;241m*\u001b[39mx)\n\u001b[1;32m     74\u001b[0m \u001b[38;5;66;03m# remove these hooks\u001b[39;00m\n\u001b[1;32m     75\u001b[0m \u001b[38;5;28;01mfor\u001b[39;00m h \u001b[38;5;129;01min\u001b[39;00m hooks:\n",
      "File \u001b[0;32m~/anaconda3/lib/python3.11/site-packages/torch/nn/modules/module.py:1511\u001b[0m, in \u001b[0;36mModule._wrapped_call_impl\u001b[0;34m(self, *args, **kwargs)\u001b[0m\n\u001b[1;32m   1509\u001b[0m     \u001b[38;5;28;01mreturn\u001b[39;00m \u001b[38;5;28mself\u001b[39m\u001b[38;5;241m.\u001b[39m_compiled_call_impl(\u001b[38;5;241m*\u001b[39margs, \u001b[38;5;241m*\u001b[39m\u001b[38;5;241m*\u001b[39mkwargs)  \u001b[38;5;66;03m# type: ignore[misc]\u001b[39;00m\n\u001b[1;32m   1510\u001b[0m \u001b[38;5;28;01melse\u001b[39;00m:\n\u001b[0;32m-> 1511\u001b[0m     \u001b[38;5;28;01mreturn\u001b[39;00m \u001b[38;5;28mself\u001b[39m\u001b[38;5;241m.\u001b[39m_call_impl(\u001b[38;5;241m*\u001b[39margs, \u001b[38;5;241m*\u001b[39m\u001b[38;5;241m*\u001b[39mkwargs)\n",
      "File \u001b[0;32m~/anaconda3/lib/python3.11/site-packages/torch/nn/modules/module.py:1520\u001b[0m, in \u001b[0;36mModule._call_impl\u001b[0;34m(self, *args, **kwargs)\u001b[0m\n\u001b[1;32m   1515\u001b[0m \u001b[38;5;66;03m# If we don't have any hooks, we want to skip the rest of the logic in\u001b[39;00m\n\u001b[1;32m   1516\u001b[0m \u001b[38;5;66;03m# this function, and just call forward.\u001b[39;00m\n\u001b[1;32m   1517\u001b[0m \u001b[38;5;28;01mif\u001b[39;00m \u001b[38;5;129;01mnot\u001b[39;00m (\u001b[38;5;28mself\u001b[39m\u001b[38;5;241m.\u001b[39m_backward_hooks \u001b[38;5;129;01mor\u001b[39;00m \u001b[38;5;28mself\u001b[39m\u001b[38;5;241m.\u001b[39m_backward_pre_hooks \u001b[38;5;129;01mor\u001b[39;00m \u001b[38;5;28mself\u001b[39m\u001b[38;5;241m.\u001b[39m_forward_hooks \u001b[38;5;129;01mor\u001b[39;00m \u001b[38;5;28mself\u001b[39m\u001b[38;5;241m.\u001b[39m_forward_pre_hooks\n\u001b[1;32m   1518\u001b[0m         \u001b[38;5;129;01mor\u001b[39;00m _global_backward_pre_hooks \u001b[38;5;129;01mor\u001b[39;00m _global_backward_hooks\n\u001b[1;32m   1519\u001b[0m         \u001b[38;5;129;01mor\u001b[39;00m _global_forward_hooks \u001b[38;5;129;01mor\u001b[39;00m _global_forward_pre_hooks):\n\u001b[0;32m-> 1520\u001b[0m     \u001b[38;5;28;01mreturn\u001b[39;00m forward_call(\u001b[38;5;241m*\u001b[39margs, \u001b[38;5;241m*\u001b[39m\u001b[38;5;241m*\u001b[39mkwargs)\n\u001b[1;32m   1522\u001b[0m \u001b[38;5;28;01mtry\u001b[39;00m:\n\u001b[1;32m   1523\u001b[0m     result \u001b[38;5;241m=\u001b[39m \u001b[38;5;28;01mNone\u001b[39;00m\n",
      "Cell \u001b[0;32mIn[9], line 24\u001b[0m, in \u001b[0;36mNetwork.forward\u001b[0;34m(self, x)\u001b[0m\n\u001b[1;32m     22\u001b[0m \u001b[38;5;28;01mdef\u001b[39;00m \u001b[38;5;21mforward\u001b[39m(\u001b[38;5;28mself\u001b[39m, x):\n\u001b[1;32m     23\u001b[0m     \u001b[38;5;66;03m# Pass the input tensor through each of our operations\u001b[39;00m\n\u001b[0;32m---> 24\u001b[0m     x \u001b[38;5;241m=\u001b[39m \u001b[38;5;28mself\u001b[39m\u001b[38;5;241m.\u001b[39mhidden(x)\n\u001b[1;32m     25\u001b[0m     x \u001b[38;5;241m=\u001b[39m \u001b[38;5;28mself\u001b[39m\u001b[38;5;241m.\u001b[39msigmoid(x)\n\u001b[1;32m     26\u001b[0m     x \u001b[38;5;241m=\u001b[39m \u001b[38;5;28mself\u001b[39m\u001b[38;5;241m.\u001b[39moutput(x)\n",
      "File \u001b[0;32m~/anaconda3/lib/python3.11/site-packages/torch/nn/modules/module.py:1511\u001b[0m, in \u001b[0;36mModule._wrapped_call_impl\u001b[0;34m(self, *args, **kwargs)\u001b[0m\n\u001b[1;32m   1509\u001b[0m     \u001b[38;5;28;01mreturn\u001b[39;00m \u001b[38;5;28mself\u001b[39m\u001b[38;5;241m.\u001b[39m_compiled_call_impl(\u001b[38;5;241m*\u001b[39margs, \u001b[38;5;241m*\u001b[39m\u001b[38;5;241m*\u001b[39mkwargs)  \u001b[38;5;66;03m# type: ignore[misc]\u001b[39;00m\n\u001b[1;32m   1510\u001b[0m \u001b[38;5;28;01melse\u001b[39;00m:\n\u001b[0;32m-> 1511\u001b[0m     \u001b[38;5;28;01mreturn\u001b[39;00m \u001b[38;5;28mself\u001b[39m\u001b[38;5;241m.\u001b[39m_call_impl(\u001b[38;5;241m*\u001b[39margs, \u001b[38;5;241m*\u001b[39m\u001b[38;5;241m*\u001b[39mkwargs)\n",
      "File \u001b[0;32m~/anaconda3/lib/python3.11/site-packages/torch/nn/modules/module.py:1561\u001b[0m, in \u001b[0;36mModule._call_impl\u001b[0;34m(self, *args, **kwargs)\u001b[0m\n\u001b[1;32m   1558\u001b[0m     bw_hook \u001b[38;5;241m=\u001b[39m hooks\u001b[38;5;241m.\u001b[39mBackwardHook(\u001b[38;5;28mself\u001b[39m, full_backward_hooks, backward_pre_hooks)\n\u001b[1;32m   1559\u001b[0m     args \u001b[38;5;241m=\u001b[39m bw_hook\u001b[38;5;241m.\u001b[39msetup_input_hook(args)\n\u001b[0;32m-> 1561\u001b[0m result \u001b[38;5;241m=\u001b[39m forward_call(\u001b[38;5;241m*\u001b[39margs, \u001b[38;5;241m*\u001b[39m\u001b[38;5;241m*\u001b[39mkwargs)\n\u001b[1;32m   1562\u001b[0m \u001b[38;5;28;01mif\u001b[39;00m _global_forward_hooks \u001b[38;5;129;01mor\u001b[39;00m \u001b[38;5;28mself\u001b[39m\u001b[38;5;241m.\u001b[39m_forward_hooks:\n\u001b[1;32m   1563\u001b[0m     \u001b[38;5;28;01mfor\u001b[39;00m hook_id, hook \u001b[38;5;129;01min\u001b[39;00m (\n\u001b[1;32m   1564\u001b[0m         \u001b[38;5;241m*\u001b[39m_global_forward_hooks\u001b[38;5;241m.\u001b[39mitems(),\n\u001b[1;32m   1565\u001b[0m         \u001b[38;5;241m*\u001b[39m\u001b[38;5;28mself\u001b[39m\u001b[38;5;241m.\u001b[39m_forward_hooks\u001b[38;5;241m.\u001b[39mitems(),\n\u001b[1;32m   1566\u001b[0m     ):\n\u001b[1;32m   1567\u001b[0m         \u001b[38;5;66;03m# mark that always called hook is run\u001b[39;00m\n",
      "File \u001b[0;32m~/anaconda3/lib/python3.11/site-packages/torch/nn/modules/linear.py:116\u001b[0m, in \u001b[0;36mLinear.forward\u001b[0;34m(self, input)\u001b[0m\n\u001b[1;32m    115\u001b[0m \u001b[38;5;28;01mdef\u001b[39;00m \u001b[38;5;21mforward\u001b[39m(\u001b[38;5;28mself\u001b[39m, \u001b[38;5;28minput\u001b[39m: Tensor) \u001b[38;5;241m-\u001b[39m\u001b[38;5;241m>\u001b[39m Tensor:\n\u001b[0;32m--> 116\u001b[0m     \u001b[38;5;28;01mreturn\u001b[39;00m F\u001b[38;5;241m.\u001b[39mlinear(\u001b[38;5;28minput\u001b[39m, \u001b[38;5;28mself\u001b[39m\u001b[38;5;241m.\u001b[39mweight, \u001b[38;5;28mself\u001b[39m\u001b[38;5;241m.\u001b[39mbias)\n",
      "\u001b[0;31mRuntimeError\u001b[0m: mat1 and mat2 shapes cannot be multiplied (2x3072 and 784x256)"
     ]
    }
   ],
   "source": [
    "from torchsummary import summary\n",
    "\n",
    "# call the \"summary\" operation with the good arguments\n",
    "\n",
    "summary(model1, input_size=(784,))\n",
    "\n",
    "total_params = sum(p.numel() for p in model1.parameters() if p.requires_grad)\n",
    "total_size_bytes = total_params * 4\n",
    "total_size_mb = total_size_bytes / (1024 * 1024)\n",
    "\n",
    "print(f\"Total number of trainable parameters: {total_params}\")\n",
    "print(f\"Total model size: {total_size_mb} MB\")\n",
    "\n",
    "\n",
    "#send('The total estimated size of this neural network is {} [MB]'.format(total_size), 1)"
   ]
  },
  {
   "cell_type": "markdown",
   "metadata": {
    "id": "BMRJTY1MTjfq"
   },
   "source": [
    "**4) How can we access the network weigths? the biases? What are their types?**\n",
    "\n",
    "\n",
    "The shape of the weights in the hidden layer is [256, 784]. This matches the 256 neurons in the hidden layer, each connecting to 784 input features.  \n",
    "\n",
    "The shape of the biases in the hidden layer is [256], corresponding to one bias term for each of the 256 neurons in the hidden layer.       \n",
    "\n",
    "The shape of the weights in the output layer is [10, 256]. This corresponds to the 10 output neurons (one for each class), each connecting to the 256 neurons in the hidden layer.\n",
    "  \n",
    "The shape of the biases in the output layer is [10], with one bias term for each of the 10 output neurons."
   ]
  },
  {
   "cell_type": "code",
   "execution_count": 14,
   "metadata": {
    "colab": {
     "base_uri": "https://localhost:8080/"
    },
    "id": "FOUgvOX5Tjfr",
    "outputId": "973c4042-19c9-4163-cd42-af766ab43032"
   },
   "outputs": [
    {
     "name": "stdout",
     "output_type": "stream",
     "text": [
      "The weights of the networks are Torch tensors:  True\n",
      "The biases of the networks are Torch tensors:  True\n",
      "The shape of the weights (hidden layer) is:  torch.Size([256, 784])\n",
      "The shape of the biais (hidden layer) is:  torch.Size([256])\n",
      "The shape of the weights (output layer) is:  torch.Size([10, 256])\n",
      "The shape of the biais (output layer) is:  torch.Size([10])\n"
     ]
    }
   ],
   "source": [
    "print(\"The weights of the networks are Torch tensors: \", torch.is_tensor(model1.hidden.weight))\n",
    "print(\"The biases of the networks are Torch tensors: \", torch.is_tensor(model1.hidden.bias))\n",
    "\n",
    "\n",
    "# Weights and biases of the hidden layer\n",
    "weights_hidden_layer = model1.hidden.weight\n",
    "bias_hidden_layer = model1.hidden.bias\n",
    "shape_weights_hidden = weights_hidden_layer.shape\n",
    "shape_bias_hidden = bias_hidden_layer.shape\n",
    "\n",
    "# Weights and biases of the output layer\n",
    "weights_output_layer = model1.output.weight\n",
    "bias_output_layer = model1.output.bias\n",
    "shape_weights_output = weights_output_layer.shape\n",
    "shape_bias_output = bias_output_layer.shape\n",
    "\n",
    "\n",
    "print(\"The shape of the weights (hidden layer) is: \", shape_weights_hidden)\n",
    "print(\"The shape of the biais (hidden layer) is: \", shape_bias_hidden)\n",
    "print(\"The shape of the weights (output layer) is: \", shape_weights_output)\n",
    "print(\"The shape of the biais (output layer) is: \", shape_bias_output)"
   ]
  },
  {
   "cell_type": "markdown",
   "metadata": {
    "id": "diulrvd6Tjfs"
   },
   "source": [
    "**5) Another way of creating neural network in Pytorch is by using the module nn.Sequential, see https://pytorch.org/docs/master/nn.html#torch.nn.Sequential**\n",
    "\n",
    "**Looking at this documentation, create the same neural network as above.**"
   ]
  },
  {
   "cell_type": "code",
   "execution_count": 15,
   "metadata": {
    "colab": {
     "base_uri": "https://localhost:8080/"
    },
    "id": "pSmW-wT1Tjfs",
    "outputId": "0fd6dd7d-a482-49e9-ec57-32e1e59b0a0f",
    "scrolled": true
   },
   "outputs": [
    {
     "name": "stdout",
     "output_type": "stream",
     "text": [
      "Sequential(\n",
      "  (0): Linear(in_features=784, out_features=256, bias=True)\n",
      "  (1): Sigmoid()\n",
      "  (2): Linear(in_features=256, out_features=10, bias=True)\n",
      "  (3): Softmax(dim=1)\n",
      ")\n",
      "[784 256 10]\n"
     ]
    }
   ],
   "source": [
    "# Hyperparameters for our network (same as before, using nn.Sequential)\n",
    "input_size = 784\n",
    "hidden_sizes = 256\n",
    "output_size = 10\n",
    "\n",
    "# Build the same feed-forward network using nn.Sequential : \n",
    "model2 = nn.Sequential(\n",
    "    nn.Linear(input_size, hidden_sizes),\n",
    "    nn.Sigmoid(),\n",
    "    nn.Linear(hidden_sizes, output_size),\n",
    "    nn.Softmax(dim=1)\n",
    ")\n",
    "\n",
    "print(model2)\n",
    "\n",
    "# Sending the array of hyperparameters\n",
    "hyperparameters = np.array([input_size, hidden_sizes, output_size], dtype=object)\n",
    "print(hyperparameters)\n",
    "\n",
    "\n",
    "#send(np.array([input_size,hidden_sizes, output_size], dtype=object), 2)\n"
   ]
  },
  {
   "cell_type": "markdown",
   "metadata": {
    "id": "uLgl7DAOTjft"
   },
   "source": [
    "**6) Which approach do you recommend: the Sequential one or the one built on the Network class ?**\n",
    "\n"
   ]
  },
  {
   "cell_type": "markdown",
   "metadata": {
    "colab": {
     "base_uri": "https://localhost:8080/"
    },
    "id": "X51YN_L9AEuR",
    "outputId": "2e8d91e3-2c2b-469a-d6f0-79f87ead4e66"
   },
   "source": [
    "Sequential: Ideal for simpler, linear stacks of layers where each layer has a single input and output. It's more readable and concise for straightforward architectures.\n",
    "Choose nn.Sequential for simplicity and when building straightforward, linear models.\n",
    "\n",
    "Opt for a custom class inheriting from nn.Module when you need more control, customization, or are dealing with complex architectures. Better when your network has a complex flow of data, multiple inputs/outputs per layer, or layers that share weights. It offers more control and customization.\n",
    "\n",
    "\n"
   ]
  },
  {
   "cell_type": "markdown",
   "metadata": {
    "id": "W0aIZPqdhMzL"
   },
   "source": [
    "**7) When and how are the weights initialized? You may look into \n",
    "https://github.com/pytorch/pytorch/blob/master/torch/nn/modules/linear.py#L44-L48**\n",
    "\n"
   ]
  },
  {
   "cell_type": "markdown",
   "metadata": {
    "colab": {
     "base_uri": "https://localhost:8080/"
    },
    "id": "RcwaX-2FjCS7",
    "outputId": "779d4d22-7205-4790-9522-7892c988ffa9"
   },
   "source": [
    "\n",
    "In PyTorch, the weights of layers such as nn.Linear are initialized automatically when an instance of the layer is created. This default initialization depends on the type of layer and is designed to facilitate the convergence of the training process.\n",
    "\n",
    " \n",
    "\n",
    "The initialization is not explicit in the code above. However, when you run the function\n",
    "\n",
    "`print(model1.hidden.weight)`\n",
    "\n",
    "in the previous cells, you notice that values have been assigned to weights. Indeed, when you create a network, weights and biases are automatically initialized. You can see that the initialization which is used is a uniform distribution $U[-1/\\text{nb_neurons}, 1/\\text{nb_neurons}]$, where nb_neurons is the number of neurons in the layer before the given weight. \n"
   ]
  },
  {
   "cell_type": "markdown",
   "metadata": {
    "id": "FkPqFl8tTjft"
   },
   "source": [
    "<a id='SimpleExampleImage'></a>\n",
    "\n",
    "# 2 - Simple Example for handling images"
   ]
  },
  {
   "cell_type": "markdown",
   "metadata": {
    "id": "E5RrrhtPTjft"
   },
   "source": [
    "For now, we did not train a neural network, i.e. we did not use a data set to learn the parameters of the network. In fact, we did not work with data. Let us change that. We are going to work with the famous MNIST data set. "
   ]
  },
  {
   "cell_type": "markdown",
   "metadata": {
    "id": "Z929oWlATjfu"
   },
   "source": [
    "<a id='LoadMNIST'></a>\n",
    "## 2.1 - Loading the dataset "
   ]
  },
  {
   "cell_type": "markdown",
   "metadata": {
    "id": "8Ak6GjiJTjfu"
   },
   "source": [
    "TorchVision (https://pytorch.org/docs/stable/torchvision/index.html) package contains a lot of dataset which are easily accessible via "
   ]
  },
  {
   "cell_type": "code",
   "execution_count": 16,
   "metadata": {
    "colab": {
     "base_uri": "https://localhost:8080/",
     "height": 439,
     "referenced_widgets": [
      "07d1aeca36d64d46964ead5de21988a9",
      "7fdb04b47d644316869fda0b4e194411",
      "fc60571224334b32b7370f2f117491a1",
      "6b97a859e2a642dbb37b0f49bf9d6c87",
      "3a5ff2ddf44742c4bc2d91c9e2a840f6",
      "d7ca9440cdf54b2093b624390e989b18",
      "ba257ea6c6db463bbdae73bfa7437c83",
      "35259a6c8b904014b441a5a6f9d4fc0b",
      "843af640934347f0bc0436e98bd3b8ce",
      "d5f297897182429f96dd5f482049e95c",
      "268f0438b49241928ef19b755a1d1cfc",
      "fb30a3297aa7423699f4d231df567537",
      "165c9f3c951348f0addd59ccf4eb991f",
      "50a937c4bf3948b19eb776306a3214ad",
      "fcb0e52c2b854e31964a16692b30726a",
      "4daae5b5d788429bafb097d7c1c6f08d",
      "1dda75d3a9434b46b0e39542e7563ed6",
      "6817cc69bf3e4f208f43bca350dc2f7c",
      "8f4a0cc36828418e9428c705d3545cea",
      "7a6d35a778c84cb081a4fde3b21dc835",
      "73b480ea46a54db790db9f06d34bd5fe",
      "5bb80a083f2c425499209f8ba3e8f348",
      "5dc57b9e72e34e80ba049fb70e8a1002",
      "6b6d3e96046243b78418b81e7061574d",
      "057dc730d8eb456eb09a28221d0de8e5",
      "53f4cd09965b40ccb2f45b72989b2c25",
      "0320b93594ae48948899f4a2cf476f0c",
      "0348beaf38294c319831de4cac381e16",
      "25441dca0b18494581ecc392c13353a6",
      "2dcfe04288704afdb30ab2760e01fc19",
      "c190a53572394a469139391fbd4074f0",
      "2a1843b8178241df840631d909f34cd7",
      "0059c7c81fc540928ebd87d76528fbe5",
      "1102c816ac1b46ae953181b2e8a887fe",
      "07a1da1ee315409784849433a60774aa",
      "a37cb97eaa144771bc65686dfe2eb1b6",
      "cfc35b14e9874c6a92c004d009be2dde",
      "7f348aa519774eb1a5ac4aacd367d7bd",
      "08be42244e434b99bf92c8bd932ad9c1",
      "5e448e08f6454a8286e8e0cc29f320ff",
      "0d34075684734b5081a69120c90e8899",
      "6dc0dcf3b102406abe39970220687890",
      "90097f54c1ff421f9366b700b9584e79",
      "44b6bf2a83b34cdb96ca9134ef48fa5d"
     ]
    },
    "id": "H349efuHTjfu",
    "outputId": "08cfc7e2-25f8-4813-e95f-7b927e2df828"
   },
   "outputs": [],
   "source": [
    "trainset = datasets.MNIST('~/.pytorch/MNIST_data/', download=True, train=True)"
   ]
  },
  {
   "cell_type": "markdown",
   "metadata": {
    "id": "9CdI7poaTjfv"
   },
   "source": [
    "You can find additionnal information on functions inherited from the torchvision.datasets class here : \n",
    "\n",
    "https://pytorch.org/vision/stable/index.html"
   ]
  },
  {
   "cell_type": "markdown",
   "metadata": {
    "id": "V7Oov2TKTjfv"
   },
   "source": [
    "**8) Using the function $\\texttt{imshow}$ from $\\texttt{matplotlib.pyplot}$, plot some images of the dataset MNIST. What is the shape of a MNIST image?**"
   ]
  },
  {
   "cell_type": "code",
   "execution_count": 17,
   "metadata": {
    "colab": {
     "base_uri": "https://localhost:8080/",
     "height": 493
    },
    "id": "1FpdP8jUTjfv",
    "outputId": "4d40245c-a3da-4423-fd7f-61bce1d87291"
   },
   "outputs": [
    {
     "data": {
      "image/png": "[encoded data removed]",
      "text/plain": [
       "<Figure size 1500x900 with 10 Axes>"
      ]
     },
     "metadata": {},
     "output_type": "display_data"
    },
    {
     "name": "stdout",
     "output_type": "stream",
     "text": [
      "MNIST images are of shapes (28, 28) which leads to 784 dimensions (pixels)\n"
     ]
    }
   ],
   "source": [
    "import matplotlib.pyplot as plt\n",
    "from torchvision import datasets, transforms\n",
    "\n",
    "#Load the image number i and print its true label\n",
    "\n",
    "\n",
    "\n",
    "plt.figure(figsize=(15, 9))\n",
    "for i in range(10):\n",
    "    plt.subplot(2, 5, i + 1)  #The figure is divided into a grid with 2 rows and 5 columns, \n",
    "    #and each image is placed in one part of this grid (i + 1 is the position index in the grid).\n",
    "    \n",
    "    # Load the image and its label\n",
    "    image, label = trainset[i]\n",
    "\n",
    "    # Plot the image directly as it's a PIL image\n",
    "    plt.imshow(image)\n",
    "    plt.title(f\"True label: {label}\")\n",
    "\n",
    "plt.show()\n",
    "\n",
    "# Shape and size of an MNIST image\n",
    "im_shape = trainset[0][0].size\n",
    "total_pixels = im_shape[0] * im_shape[1]\n",
    "\n",
    "print(f\"MNIST images are of shapes {im_shape} which leads to {total_pixels} dimensions (pixels)\")\n"
   ]
  },
  {
   "cell_type": "markdown",
   "metadata": {
    "id": "xsolJbBbTjfw"
   },
   "source": [
    "<a id='Normalization'></a>\n",
    "## 2.2 - Normalization \n",
    "\n",
    "Data set should be **normalized** to avoid numerical instability.\n",
    "Indeed, working with big floats can lead to important numerical errors. \n",
    "It is a good practice to normalize the inputs (features) so that they have zero mean and a constant (small) variance. To convince yourself of the damages that can result from numerical instability, see the following cell:"
   ]
  },
  {
   "cell_type": "code",
   "execution_count": 18,
   "metadata": {
    "colab": {
     "base_uri": "https://localhost:8080/"
    },
    "id": "jDnql2ecTjfx",
    "outputId": "376e3c66-e353-4741-a5c7-2229a370766a",
    "scrolled": true
   },
   "outputs": [
    {
     "name": "stdout",
     "output_type": "stream",
     "text": [
      "Numerically instable sum: 0.953674 \n",
      "Numerically stable sum: 1.000000 \n"
     ]
    }
   ],
   "source": [
    "foo = 1e9\n",
    "for i in range(int(1e6)):\n",
    "    foo += 1e-6\n",
    "foo -= 1e9\n",
    "print(\"Numerically instable sum: %f \" % foo)\n",
    "\n",
    "bar = 1\n",
    "for i in range(int(1e6)):\n",
    "    bar += 1e-6\n",
    "bar -= 1\n",
    "print(\"Numerically stable sum: %f \" % bar)"
   ]
  },
  {
   "cell_type": "markdown",
   "metadata": {
    "id": "tZWGcr_dTjfy"
   },
   "source": [
    "**9) What conclusion can you draw from the above code?**"
   ]
  },
  {
   "cell_type": "markdown",
   "metadata": {
    "id": "iLzDNaBhTjfy"
   },
   "source": [
    "a) mathematically speaking, what should be the values of 'foo' and 'bar'?\n",
    "\n",
    "Mathematically, both foo and bar should be 1. This is because adding 1e-6 a million times sums up to 1. So, essentially, we are adding 1 and then subtracting 1 in both cases.\n",
    "\n",
    "\n",
    "\n",
    "b) What do you conclude?\n",
    "\n",
    "\n",
    "The first sum (foo) shows a result of 0.953674, which is significantly different from the expected 1. This deviation is due to the loss of precision in floating-point arithmetic. When adding a very small number (1e-6) to a very large number (1e9), the small number does not significantly affect the sum due to the limited precision with which floating-point numbers are stored.\n",
    "The second sum (bar) correctly shows 1.000000, which matches the mathematical expectation. Since bar starts with a value of 1, adding 1e-6 does not cause significant precision loss.\n",
    "\n",
    "\n",
    "Conclusion:\n",
    "\n",
    "**The code demonstrates the effects of numerical instability in floating-point arithmetic. When dealing with numbers of vastly different magnitudes, precision can be lost, leading to inaccurate results.\n",
    "It's important in numerical computations, especially in scientific and engineering applications, to be aware of and account for the limitations of floating-point arithmetic. Techniques such as scaling values to similar magnitudes or using higher-precision data types can help mitigate these issues.**\n",
    "\n",
    "\n",
    "\n"
   ]
  },
  {
   "cell_type": "markdown",
   "metadata": {
    "id": "g97MH6H3Tjf0"
   },
   "source": [
    "Now, we need to load the dataset and renormalize the data. Additionnally, PyTorch works with tensors, as you have seen in the tutorial. Thus, we need to transform the data into tensors. The following code does this operation.  "
   ]
  },
  {
   "cell_type": "code",
   "execution_count": 21,
   "metadata": {
    "id": "BNtZM_UeTjf2"
   },
   "outputs": [],
   "source": [
    "from torchvision import transforms\n",
    "\n",
    "# Define a transform to normalize the data: \n",
    "transform = transforms.Compose([ transforms.ToTensor(), transforms.Normalize(mean = 0.1307, std = 0.3081) ])\n",
    "\n",
    "# Download (it should have been done earlier, normally) and load the training data\n",
    "trainset = datasets.MNIST('~/.pytorch/MNIST_data/', download=True, train=True, transform=transform)\n",
    "testset = datasets.MNIST('~/.pytorch/MNIST_data/', download=True, train=False, transform=transform)\n",
    "trainloader = torch.utils.data.DataLoader(trainset, batch_size=64, shuffle=True)\n",
    "#used to create an iterable over the dataset for easy batch processing.\n",
    "testloader = torch.utils.data.DataLoader(testset, batch_size = 10000)\n",
    "\n",
    "# Pour le test on peut avoir un batch size qui est grand car on fait que un forward\n",
    "#the entire test dataset is loaded in a single batch. \n",
    "#This is possible during testing as it involves only forward passes through the network \n",
    "#and is less memory intensive compared to training.\n",
    "\n",
    "\n",
    "#The primary goal of the testing phase is to evaluate the performance of a model that has already been trained.\n",
    "#This means that we're only interested in seeing how well the model predicts or classifies new, unseen data. \n",
    "#Therefore, we only need to pass the data through the model (a forward pass) to obtain predictions.\n",
    "\n",
    "\n",
    "\n",
    "\n",
    "#In PyTorch, when you iterate over a DataLoader object, it returns batches of data,that consists of two elements:\n",
    "\n",
    "#Data (Images): The first element of the batch contains the actual data \n",
    "#Labels: The second element of the batch contains the labels corresponding to each image in the batch."
   ]
  },
  {
   "cell_type": "markdown",
   "metadata": {
    "id": "HI-8IfvxTjf0"
   },
   "source": [
    "**10) Describe the normalization we have implemented. More information on preprocessing data can be found here https://pytorch.org/vision/stable/transforms.html** **What is the training batch size? What is the testing batch size? How many iterations does one epoch contain?**"
   ]
  },
  {
   "cell_type": "markdown",
   "metadata": {},
   "source": [
    "The normalization step in the code is performed using transforms.Normalize(mean=0.1307, std=0.3081). This is a common preprocessing step in many machine learning workflows, especially for image data.\n",
    "\n",
    "**Normalization Process:** By appliying the function ToTensor, we transorm an array or image to a tensor. By doing so it normalize the data so that each element is in [0,1]\n",
    "\n",
    "Mean and Standard Deviation: The values 0.1307 and 0.3081 are specific to the MNIST dataset. These values are the global mean and standard deviation of the MNIST training dataset. \n",
    "\n",
    "\n",
    "After that the function Normalize subtracts to each pixel the \"mean\" parameter 0.1307 (computed on the whole training set, usually per channel) and divides it by \"std\" (computed in a similar way).\n",
    "The process involves modifying the values of the input data (images in this case) to have a specific mean and standard deviation. This is done by subtracting the mean from each pixel and then dividing by the standard deviation.\n",
    "\n",
    "        \n",
    "**Purpose:** Normalization helps in speeding up the training by ensuring that each input parameter (pixel, in this case) has a similar data distribution. This makes convergence faster while training the network because it helps to standardize the range of the input data. **Data set should be normalized to avoid numerical instability**\n",
    "\n",
    "\n",
    "**Batch Sizes:**\n",
    "Training Batch Size: The training batch size is set to 64. This means that in each iteration of the training process, 64 images are processed together. Batch size is a crucial hyperparameter in training neural networks. It defines the number of samples that will be propagated through the network before updating the model parameters.\n",
    "Testing Batch Size: The testing batch size is set to 10,000. This is unusually large for a batch size, but it's feasible here because during testing, we are only doing a forward pass without backpropagation, which is less memory-intensive. The whole test set can be processed in one go if memory allows.\n",
    "\n",
    "\n",
    "**Iterations per Epoch:** The number of iterations in one epoch is determined by the total number of training samples divided by the training batch size.\n",
    "Since MNIST training set has 60,000 images and the batch size is 64, the number of iterations per epoch will be \n",
    "60000/64 ≈ 938 iterations (assuming the division is not a whole number, the final batch may be smaller than 64)."
   ]
  },
  {
   "cell_type": "markdown",
   "metadata": {
    "id": "OiJZxcU4Tjf4"
   },
   "source": [
    "The MNIST data set is now loaded and ready to be used to train a neural network."
   ]
  },
  {
   "cell_type": "markdown",
   "metadata": {
    "id": "CkMS1U6aTjf4"
   },
   "source": [
    "<a id='TrainNNPytorch'></a>\n",
    "## 2.3 - Train a Neural Network in Pytorch"
   ]
  },
  {
   "cell_type": "markdown",
   "metadata": {
    "id": "9Ugj8tFhTjf4"
   },
   "source": [
    "**11) Create a neural network of your choice by creating the ReluNetwork class below by filling in the code below. Store the model into an object $\\texttt{model}$. You will also have to define a loss, that you can store in an object called $\\texttt{criterion}$ and an optimizer, stored in an object called $\\texttt{optimizer}$.**\n",
    "\n",
    "If you are looking for a function in nn, it is probably here: \n",
    "\n",
    "https://pytorch.org/docs/stable/nn\n",
    "\n",
    "If you are looking for an optimizer, the answer may be there:\n",
    "\n",
    "https://pytorch.org/docs/stable/optim.html"
   ]
  },
  {
   "cell_type": "markdown",
   "metadata": {
    "id": "r1HFzY1VTjf4"
   },
   "source": [
    "**Describe your choice here:**\n",
    "\n",
    "My choice: \n",
    "- Takes a MNIST image as input\n",
    "- Linear layer with 128 neurons\n",
    "- Relu activation function\n",
    "- Linear layer with 64 neurons\n",
    "- Relu activation function\n",
    "- Linear layer with 10 neurons\n",
    "- LogSoftmax output with Negative Log Likelihood Loss (see the documentation here https://pytorch.org/docs/stable/nn.html#nllloss)\n",
    "\n",
    "\n"
   ]
  },
  {
   "cell_type": "code",
   "execution_count": 22,
   "metadata": {
    "colab": {
     "base_uri": "https://localhost:8080/"
    },
    "id": "idJXsGHLTjf5",
    "outputId": "c8b45cc0-f9a0-41f2-a51d-db6443e220e3"
   },
   "outputs": [],
   "source": [
    "# Goal: Define the network architecture as a new nn.Module subclass\n",
    "# Compared to the sequential way of defining your network,\n",
    "\n",
    "class ReluNetwork(nn.Module):\n",
    "    def __init__(self):\n",
    "        super().__init__()\n",
    "        \n",
    "        # Inputs to hidden layer linear transformation\n",
    "        ################## TODO BLOCK\n",
    "        self.hidden1 = nn.Linear(784, 128)\n",
    "        self.hidden2 = nn.Linear(128, 64)\n",
    "        ################## END TODO BLOCK\n",
    "        \n",
    "        # Output layer, 10 units - one for each digit\n",
    "        ################## TODO BLOCK\n",
    "        self.output = nn.Linear(64, 10)\n",
    "        ################## END TODO BLOCK\n",
    "        \n",
    "        # Define Relu activation and softmax output \n",
    "        ################## TODO BLOCK\n",
    "        self.activation1 = nn.ReLU()\n",
    "        self.activation2 = nn.ReLU()\n",
    "        self.logsoftmax = nn.LogSoftmax(dim=1)\n",
    "        ################## END TODO BLOCK\n",
    "\n",
    "        \n",
    "    def forward(self, x):\n",
    "        # Pass the input tensor through each of our operations\n",
    "        ################## TODO BLOCK\n",
    "        x = self.hidden1(x)\n",
    "        x = self.activation1(x)\n",
    "        x = self.hidden2(x)\n",
    "        x = self.activation2(x)\n",
    "        x = self.output(x)\n",
    "        x = self.logsoftmax(x)\n",
    "        # You can also use Softmax in the last line but in that case, use the CrossEntropyLoss as criterion below\n",
    "        ################## END TODO BLOCK       \n",
    "        return x\n",
    "\n",
    "# Instantiate the model\n",
    "################## TODO BLOCK\n",
    "model = ReluNetwork()\n",
    "################## END TODO BLOCK\n",
    "\n",
    "\n",
    "# Define the loss\n",
    "################## TODO BLOCK\n",
    "criterion = nn.NLLLoss()\n",
    "\n",
    "# nn.NLLLoss() stands for Negative Log Likelihood Loss.\n",
    "# It is used in classification problems where the output is a probability distrib(from 0 to 1) across all classes.\n",
    "# NLLLoss calculates the loss as the negative log probability of the true class. \n",
    "\n",
    "#Usage with LogSoftmax:\n",
    "#Here, the final layer is a LogSoftmax, which converts the output to log probabilities.\n",
    "#This is why NLLLoss is appropriate here. If you had used a regular Softmax, \n",
    "#you would typically use CrossEntropyLoss instead, which combines LogSoftmax and NLLLoss in one step.\n",
    "\n",
    "\n",
    "\n",
    "optimizer = optim.SGD(model.parameters(), lr=0.01)\n",
    "#An optimizer is an algorithm or method used to change the attributes of the neural network,to reduce the losses.\n",
    "#Optimizers are used to minimize (or maximize) a function, which in neural networks is usually the loss function.\n",
    "#optim.SGD: This stands for Stochastic Gradient Descent. \n",
    "#SGD updates the model parameters (weights) in the opposite direction of the gradient of the loss function \n",
    "\n"
   ]
  },
  {
   "cell_type": "code",
   "execution_count": 23,
   "metadata": {},
   "outputs": [
    {
     "name": "stdout",
     "output_type": "stream",
     "text": [
      "----------------------------------------------------------------\n",
      "        Layer (type)               Output Shape         Param #\n",
      "================================================================\n",
      "            Linear-1                  [-1, 128]         100,480\n",
      "              ReLU-2                  [-1, 128]               0\n",
      "            Linear-3                   [-1, 64]           8,256\n",
      "              ReLU-4                   [-1, 64]               0\n",
      "            Linear-5                   [-1, 10]             650\n",
      "        LogSoftmax-6                   [-1, 10]               0\n",
      "================================================================\n",
      "Total params: 109,386\n",
      "Trainable params: 109,386\n",
      "Non-trainable params: 0\n",
      "----------------------------------------------------------------\n",
      "Input size (MB): 0.00\n",
      "Forward/backward pass size (MB): 0.00\n",
      "Params size (MB): 0.42\n",
      "Estimated Total Size (MB): 0.42\n",
      "----------------------------------------------------------------\n"
     ]
    }
   ],
   "source": [
    "summary(model, input_size=(784,))"
   ]
  },
  {
   "cell_type": "markdown",
   "metadata": {
    "id": "TVNK16PhTjf7"
   },
   "source": [
    "#### Explanations on autodiff\n",
    "\n",
    "```torch.Tensor``` is the central class of the package. If you set its attribute ```.requires_grad``` as True, it starts to track all operations on it. When you finish your computation you can call ```.backward()``` and have all the gradients computed automatically. The gradient for this tensor will be accumulated into ```.grad``` attribute."
   ]
  },
  {
   "cell_type": "markdown",
   "metadata": {
    "id": "34VdFsi_Tjf9"
   },
   "source": [
    "**12) Train the network you have created during a small number of epochs (typically 5). Compute the training loss, training accuracy, test loss, test accuracy for each epoch.\n",
    "To define a training, we need a model, a criterion (or loss), and an optimizer.\n",
    "In the following, in order to modify the latest easily in several experiment, we will redefine it automatically inside the training procedure.**"
   ]
  },
  {
   "cell_type": "code",
   "execution_count": 46,
   "metadata": {
    "colab": {
     "base_uri": "https://localhost:8080/"
    },
    "id": "kDgOblANTjf9",
    "outputId": "91974726-66ae-4637-969a-ac76b22016f9"
   },
   "outputs": [
    {
     "name": "stdout",
     "output_type": "stream",
     "text": [
      "Epoch number 1\n",
      "Training loss:  0.171\n",
      "Test loss:  0.158\n",
      "Test Accuracy:  95.34\n",
      "Epoch number 2\n",
      "Training loss:  0.152\n",
      "Test loss:  0.147\n",
      "Test Accuracy:  95.77\n",
      "Epoch number 3\n",
      "Training loss:  0.136\n",
      "Test loss:  0.133\n",
      "Test Accuracy:  95.92\n",
      "Epoch number 4\n",
      "Training loss:  0.124\n",
      "Test loss:  0.122\n",
      "Test Accuracy:  96.45\n",
      "Epoch number 5\n",
      "Training loss:  0.112\n",
      "Test loss:  0.115\n",
      "Test Accuracy:  96.52\n",
      "--- 15.768 seconds ---\n"
     ]
    }
   ],
   "source": [
    "# GOAL: train the network with your optimizer over 5 epochs and  returns the training loss,\n",
    "# the test loss, and the criterion at the end of each epoch \n",
    "\n",
    "start_time = time.time()\n",
    "epochs = 5\n",
    "\n",
    "\n",
    "for e in range(epochs):\n",
    "    running_loss = 0\n",
    "    running_test_loss=0\n",
    "    \n",
    "    for images, labels in trainloader:\n",
    "        # Flatten MNIST images into a 784 long vector\n",
    "        images = images.view(images.shape[0], -1)\n",
    "    \n",
    "        # Training pass\n",
    "        optimizer.zero_grad() # What is this line for?\n",
    "        #clears old gradients from the last step (otherwise gradients would be accumulated).\n",
    "        \n",
    "        output = model(images) #TODO OPERAND\n",
    "        loss = criterion(output, labels) #TODO OPERAND\n",
    "        #computes the loss between the predictions and the actual labels.\n",
    "        \n",
    "        # now: backpropagate and perform one optimization step\n",
    "        ################## TODO BLOCK\n",
    "        loss.backward() # Computes the gradients of the loss with respect to the model parameters.\n",
    "        optimizer.step() # Perform an iteration of the optimization algorithm (SGD here) step.\n",
    "        # updates the model parameters based on the gradients.\n",
    "        ################## END TODO BLOCK\n",
    "\n",
    "        \n",
    "        running_loss += loss.item()   \n",
    "        #Accumulates the loss for each batch to calculate the average training loss for the epoch.\n",
    "    \n",
    "    #Compute validation loss\n",
    "    with torch.no_grad():\n",
    "        for images, labels in testloader:\n",
    "            # Flatten MNIST images into a 784 long vector\n",
    "            images = images.view(images.shape[0], -1)\n",
    "                \n",
    "            # Complete those lines:\n",
    "            outputs = model(images) #TODO OPERAND\n",
    "            test_loss = criterion(outputs, labels) #TODO OPERAND\n",
    "            running_test_loss += test_loss.item() #TODO OPERAND\n",
    "\n",
    "            predictions = torch.argmax(outputs, 1) #TODO OPERAND\n",
    "            # gets the model's predicted class for each image.\n",
    "            correct_test = predictions.eq(labels).sum().item() #TODO OPERAND\n",
    "            # counts the number of correct predictions.\n",
    "               \n",
    "            test_accuracy = 100 * correct_test / len(predictions) #TODO OPERAND\n",
    "            #calculates the percentage of correct predictions.\n",
    "            \n",
    "        print(\"Epoch number\", e+1)\n",
    "        print(\"Training loss: \", round(running_loss/len(trainloader),3))\n",
    "        print(\"Test loss: \", round(running_test_loss/len(testloader),3))\n",
    "        print(\"Test Accuracy: \", test_accuracy)\n",
    "\n",
    "print(\"--- %s seconds ---\" % round((time.time() - start_time), 3))"
   ]
  },
  {
   "cell_type": "markdown",
   "metadata": {
    "id": "irRG9YVxTjf-"
   },
   "source": [
    "**13) More generally, define a training *function* that returns three lists containing respectively the training loss, the test loss, and the criterion value at the end of each epoch.**"
   ]
  },
  {
   "cell_type": "code",
   "execution_count": 25,
   "metadata": {
    "id": "BjDpjuIETjf-",
    "scrolled": true
   },
   "outputs": [],
   "source": [
    "##############\n",
    "# Goal: Define a training **function** that returns the training loss,\n",
    "# the test loss, and the criterion at the end of each epoch \n",
    "\n",
    "def training(model,\n",
    "             criterion=nn.NLLLoss(),\n",
    "             optim_alg=\"SGD\",\n",
    "             lr=0.01,\n",
    "             momentum=(.9, .999),\n",
    "             schedule=False,\n",
    "             nb_epochs=5,\n",
    "             intermediate_prints=False,\n",
    "            ):\n",
    "\n",
    "    if optim_alg == \"SGD\":\n",
    "        optimizer = optim.SGD(model.parameters(), lr=lr, momentum=momentum[0])\n",
    "    elif optim_alg == \"ADAM\":\n",
    "        optimizer = optim.Adam(model.parameters(), lr=lr, betas=momentum)\n",
    "    else:\n",
    "        raise ValueError(\"optim_alg must take its value in {}\".format([\"SGD\", \"ADAM\"]))\n",
    "        \n",
    "    if schedule:\n",
    "        scheduler = ReduceLROnPlateau(optimizer, factor=0.3, patience=1)\n",
    "    \n",
    "    epoch_train_losses_list = []\n",
    "    epoch_test_losses_list = []\n",
    "    epoch_accuracy_list = []\n",
    "\n",
    "    for e in range(nb_epochs):\n",
    "        running_loss = 0\n",
    "        running_test_loss=0\n",
    "        for images, labels in trainloader:\n",
    "            # Flatten MNIST images into a 784 long vector\n",
    "\n",
    "            images = images.view(images.shape[0], -1)\n",
    "\n",
    "            # Training pass\n",
    "            optimizer.zero_grad()\n",
    "\n",
    "            # Evaluate the output, loss, backpropagate and perform an optimization step:\n",
    "            ################## TODO BLOCK\n",
    "            output = model(images)\n",
    "            loss = criterion(output, labels)\n",
    "            loss.backward()\n",
    "            optimizer.step()\n",
    "            ################## END TODO BLOCK\n",
    "            \n",
    "\n",
    "            running_loss += loss.item()\n",
    "\n",
    "\n",
    "         #Compute validation loss\n",
    "        with torch.no_grad():\n",
    "            for images, labels in testloader:\n",
    "                # Flatten MNIST images into a 784 long vector\n",
    "                images = images.view(images.shape[0], -1)\n",
    "\n",
    "                # Update the validation loss and compute accuracy:\n",
    "                outputs = model(images) # TODO OPERAND\n",
    "                test_loss = criterion(outputs, labels) # TODO OPERAND\n",
    "                running_test_loss += test_loss.item() # TODO OPERAND\n",
    "                \n",
    "                # Calculate predictions, correct counts, and accuracy\n",
    "                predictions = torch.argmax(outputs, dim=1)\n",
    "#computes the index with the highest probability in each output. \n",
    "#dim=1 specifies that the argmax should be calculated along the dimension representing the class scores for each image.\n",
    "                correct_test = predictions.eq(labels).sum().item()\n",
    "#compares the predicted labels with the actual labels, resulting in a tensor of True/False values.\n",
    "#Summing this tensor (sum()) gives the total number of correct predictions. \n",
    "#.item() converts it from a tensor to a Python number.    \n",
    "                test_accuracy = 100 * correct_test / len(labels)\n",
    "\n",
    "\n",
    "        final_train_loss = running_loss/len(trainloader)\n",
    "        final_test_loss = running_test_loss/len(testloader)\n",
    "        \n",
    "        if intermediate_prints:\n",
    "            print(\"Epoch number: {}\".format(e+1))\n",
    "            print(\"Training loss = {} \".format(round(final_train_loss,3)))\n",
    "            print(\"Test loss = {} \".format(round(final_test_loss,3)))\n",
    "            print(\"Test Accuracy = {} \".format(test_accuracy))\n",
    "        \n",
    "        epoch_train_losses_list.append(final_train_loss)\n",
    "        epoch_test_losses_list.append(final_test_loss)\n",
    "        epoch_accuracy_list.append(test_accuracy)\n",
    "        \n",
    "        if schedule:\n",
    "            scheduler.step(final_test_loss)\n",
    "        \n",
    "    return epoch_train_losses_list, epoch_test_losses_list, epoch_accuracy_list\n",
    "    \n",
    "###############"
   ]
  },
  {
   "cell_type": "markdown",
   "metadata": {
    "id": "CYw_3vCIwQvt"
   },
   "source": [
    "You should now be able to run the cell below, in order to train the neural network with a different optimizer."
   ]
  },
  {
   "cell_type": "code",
   "execution_count": 26,
   "metadata": {
    "colab": {
     "base_uri": "https://localhost:8080/"
    },
    "id": "3aUTBTrmTjf_",
    "outputId": "814f7179-a6b1-4c98-9c21-2bffe8ff0421"
   },
   "outputs": [
    {
     "name": "stdout",
     "output_type": "stream",
     "text": [
      "Epoch number: 1\n",
      "Training loss = 0.81 \n",
      "Test loss = 0.35 \n",
      "Test Accuracy = 89.82 \n",
      "Epoch number: 2\n",
      "Training loss = 0.319 \n",
      "Test loss = 0.275 \n",
      "Test Accuracy = 92.0 \n",
      "Epoch number: 3\n",
      "Training loss = 0.264 \n",
      "Test loss = 0.236 \n",
      "Test Accuracy = 93.14 \n",
      "Epoch number: 4\n",
      "Training loss = 0.228 \n",
      "Test loss = 0.208 \n",
      "Test Accuracy = 94.11 \n",
      "Epoch number: 5\n",
      "Training loss = 0.199 \n",
      "Test loss = 0.182 \n",
      "Test Accuracy = 94.66 \n",
      "--- 15.993 seconds ---\n"
     ]
    }
   ],
   "source": [
    "# Goal: run a training with the optimization algorithm of your choice\n",
    "\n",
    "start_time = time.time()\n",
    "nb_epochs = 5\n",
    "# Training of the model\n",
    "epoch_train_losses_list, epoch_test_losses_list, epoch_accuracy_list = training(\n",
    "    model,\n",
    "    criterion=nn.NLLLoss(),\n",
    "    optim_alg=\"SGD\",\n",
    "    lr=0.01,\n",
    "    momentum=(0., ),\n",
    "    schedule=False,\n",
    "    nb_epochs=nb_epochs,\n",
    "    intermediate_prints=True,\n",
    ")\n",
    "\n",
    "\n",
    "print(\"--- %s seconds ---\" % round((time.time() - start_time), 3))"
   ]
  },
  {
   "cell_type": "markdown",
   "metadata": {
    "id": "R2jWoHznTjgA"
   },
   "source": [
    "Let's visualize the predictions of the model for some random test images: for a minibatch of size 10 of test images, the following code prints the image, its label, the corresponding prediction given by the network, and the network accuracy on the minibatch. \n",
    "\n",
    "**14) Can you find incorrect predictions? Can you make sense of them and/or interpret the output?**"
   ]
  },
  {
   "cell_type": "code",
   "execution_count": 62,
   "metadata": {
    "colab": {
     "base_uri": "https://localhost:8080/",
     "height": 282
    },
    "id": "34xS5W2cTjgA",
    "outputId": "86bac1b1-aad6-4dd5-8422-df80c870320f"
   },
   "outputs": [
    {
     "data": {
      "image/png": "[encoded data removed]",
      "text/plain": [
       "<Figure size 640x480 with 14 Axes>"
      ]
     },
     "metadata": {},
     "output_type": "display_data"
    },
    {
     "name": "stdout",
     "output_type": "stream",
     "text": [
      "Predictions are tensor([1, 7, 8, 0, 1, 5, 4, 2, 9, 9, 6, 6, 8, 2])\n",
      "True labels are tensor([1, 7, 8, 6, 1, 5, 4, 2, 9, 9, 6, 6, 8, 2])\n",
      "test accuracy on this minibatch of size 14 is 93 % \n"
     ]
    }
   ],
   "source": [
    "test_batch_size = 14\n",
    "minitestloader = torch.utils.data.DataLoader(testset, batch_size=test_batch_size, shuffle=True)\n",
    "running_loss = 0\n",
    "running_test_loss = 0\n",
    "u = 0\n",
    "\n",
    "for images, labels in minitestloader:\n",
    "    if u < 1:\n",
    "\n",
    "        for i in range(test_batch_size):\n",
    "            plt.subplot(2, int(test_batch_size / 2), i + 1)\n",
    "            plt.imshow(images[i][0])\n",
    "        plt.show()\n",
    "\n",
    "        images = images.view(images.shape[0], -1)\n",
    "        outputs = model(images)\n",
    "        test_loss = criterion(outputs, labels)\n",
    "        running_test_loss += test_loss.item()\n",
    "\n",
    "        predictions = torch.argmax(outputs, 1)\n",
    "        print('Predictions are', predictions)\n",
    "        print('True labels are', labels)\n",
    "        correct_test = predictions.eq(labels).sum().item()\n",
    "\n",
    "        print('test accuracy on this minibatch of size %d is %.0f %% ' %\n",
    "              (test_batch_size, 100 * correct_test / test_batch_size))\n",
    "        \n",
    "        test_accuracy = 100 * correct_test / len(predictions)\n",
    "        u = u + 1"
   ]
  },
  {
   "cell_type": "markdown",
   "metadata": {
    "id": "f1QBzgtPzc34"
   },
   "source": [
    "You can change the upper bound on u to display more images. Some incorrect predictions are intriguing because the corresponding images are not close by aspect to the predicted number. The network is not able to use the full information of the picture to make a prediction."
   ]
  },
  {
   "cell_type": "markdown",
   "metadata": {
    "id": "npjw8l9GTjgB"
   },
   "source": [
    "## Analyzing the performance of the optimizer for the training"
   ]
  },
  {
   "cell_type": "markdown",
   "metadata": {
    "id": "ixtaXpTdz7l5"
   },
   "source": [
    "The cell below plots the training and test error as a function of the number of epochs. "
   ]
  },
  {
   "cell_type": "code",
   "execution_count": 27,
   "metadata": {
    "colab": {
     "base_uri": "https://localhost:8080/",
     "height": 567
    },
    "id": "3tFnPTHOTjgB",
    "outputId": "8acb73a0-b245-4640-b433-b4245b69a2ec",
    "scrolled": false
   },
   "outputs": [
    {
     "data": {
      "image/png": "[encoded data removed]",
      "text/plain": [
       "<Figure size 1500x900 with 2 Axes>"
      ]
     },
     "metadata": {},
     "output_type": "display_data"
    }
   ],
   "source": [
    "# Plot losses and accuracy curves of the first training through time\n",
    "\n",
    "fig = plt.figure(figsize=(15, 9))\n",
    "host = fig.add_subplot(111)\n",
    "secondary = host.twinx()\n",
    "\n",
    "host.set_xlabel(\"Epochs\")\n",
    "host.set_ylabel(\"Losses\")\n",
    "secondary.set_ylabel(\"Accuracy\")\n",
    "\n",
    "color1 = plt.cm.viridis(0)\n",
    "color2 = plt.cm.viridis(0.5)\n",
    "color3 = plt.cm.viridis(.9)\n",
    "\n",
    "p1, = host.plot(np.arange(nb_epochs)+1, epoch_train_losses_list, color=color1, label=\"Train Loss\")\n",
    "p2, = host.plot(np.arange(nb_epochs)+1, epoch_test_losses_list, color=color2, label=\"Test Loss\")\n",
    "p3, = secondary.plot(np.arange(nb_epochs)+1, epoch_accuracy_list, color=color3, label=\"Accuracy\")\n",
    "\n",
    "lns = [p1, p2, p3]\n",
    "host.legend(handles=lns, loc='best')\n",
    "\n",
    "host.yaxis.label.set_color(p1.get_color())\n",
    "secondary.yaxis.label.set_color(p3.get_color())\n",
    "\n",
    "plt.title(\"Losses and accuracy through epochs\")\n",
    "\n",
    "\n",
    "plt.show()"
   ]
  },
  {
   "cell_type": "markdown",
   "metadata": {
    "id": "ofv2nTn90L3k"
   },
   "source": [
    "As expected, we see a training error which decreases with the number of epochs.  **However, there is no overfitting since the test loss is also decreasing.** We could add a few more epochs to the training procedure to see if the network performance can be improved. The code below compares several optimizers. \n",
    "\n",
    "**Train Loss (Purple Line):** This line represents the training loss, which generally decreases as the number of epochs increases. This indicates that the model is learning from the training data, as it should be.\n",
    "\n",
    "**Test Loss (Green Line):** This line represents the test loss. In the ideal scenario, this should also decrease as the model becomes better at generalizing to unseen data. In the provided graph, the test loss decreases along with the training loss, which is a good sign and suggests that the model is not overfitting to the training data.\n",
    "\n",
    "**Accuracy (Yellow Line):** The accuracy line shows the percentage of correct predictions made by the model on the test set. Higher accuracy is generally better, and in this graph, it appears to increase over time, suggesting that the model's predictions are becoming more accurate as training progresses.\n",
    "Important Observations:\n",
    "\n",
    "The test loss and training loss are decreasing together, which suggests that the model is generalizing well and not just memorizing the training data (overfitting).\n",
    "The accuracy is increasing, indicating an improvement in the model's predictive performance on the test data.\n",
    "\n",
    "**15) Based on the code below, which optimizer is the best on this task?**"
   ]
  },
  {
   "cell_type": "code",
   "execution_count": 66,
   "metadata": {
    "colab": {
     "base_uri": "https://localhost:8080/",
     "height": 585
    },
    "id": "QHTpTpL5TjgC",
    "outputId": "e24f4693-fee1-4c3a-c980-3ce6317b0c14"
   },
   "outputs": [
    {
     "data": {
      "image/png": "[encoded data removed]",
      "text/plain": [
       "<Figure size 1500x900 with 3 Axes>"
      ]
     },
     "metadata": {},
     "output_type": "display_data"
    },
    {
     "name": "stdout",
     "output_type": "stream",
     "text": [
      "--- 65.495 seconds ---\n"
     ]
    }
   ],
   "source": [
    "# Compare several optimization algorithms performance\n",
    "#Trains separate instances of ReluNetwork with different configurations:\n",
    "#Stochastic Gradient Descent (SGD) without momentum.\n",
    "#SGD with momentum.\n",
    "#Adaptive Moment Estimation (ADAM).\n",
    "#SGD with a learning rate scheduler enabled.\n",
    "#Each training function returns lists of training losses, test losses, and accuracy values for each epoch.\n",
    "\n",
    "start_time = time.time()\n",
    "\n",
    "# Training the same architecture with different losses\n",
    "nb_epochs = 5\n",
    "\n",
    "# SGD w/o momentum\n",
    "epoch_train_losses_list1, epoch_test_losses_list1, epoch_accuracy_list1 = training(ReluNetwork(),\n",
    "                                                                                   criterion=nn.NLLLoss(),\n",
    "                                                                                   optim_alg=\"SGD\",\n",
    "                                                                                   lr=0.01,\n",
    "                                                                                   momentum=(0.,),\n",
    "                                                                                   schedule=False,\n",
    "                                                                                   nb_epochs=nb_epochs,\n",
    "                                                                                   intermediate_prints=False,\n",
    "                                                                                  )\n",
    "\n",
    "# SGD w/ momentum\n",
    "epoch_train_losses_list2, epoch_test_losses_list2, epoch_accuracy_list2 = training(ReluNetwork(),\n",
    "                                                                                   criterion=nn.NLLLoss(),\n",
    "                                                                                   optim_alg=\"SGD\",\n",
    "                                                                                   lr=0.01,\n",
    "                                                                                   momentum=(0.9,),\n",
    "                                                                                   schedule=False,\n",
    "                                                                                   nb_epochs=nb_epochs,\n",
    "                                                                                   intermediate_prints=False,\n",
    "                                                                                  )\n",
    "\n",
    "# ADAM\n",
    "epoch_train_losses_list3, epoch_test_losses_list3, epoch_accuracy_list3 = training(ReluNetwork(),\n",
    "                                                                                   criterion=nn.NLLLoss(),\n",
    "                                                                                   optim_alg=\"ADAM\",\n",
    "                                                                                   lr=0.01,\n",
    "                                                                                   momentum=(0.9, 0.999),\n",
    "                                                                                   schedule=False,\n",
    "                                                                                   nb_epochs=nb_epochs,\n",
    "                                                                                   intermediate_prints=False,\n",
    "                                                                                  )\n",
    "\n",
    "# SGD with scheduler\n",
    "epoch_train_losses_list4, epoch_test_losses_list4, epoch_accuracy_list4 = training(ReluNetwork(),\n",
    "                                                                                   criterion=nn.NLLLoss(),\n",
    "                                                                                   optim_alg=\"SGD\",\n",
    "                                                                                   lr=0.1,\n",
    "                                                                                   momentum=(0.,),\n",
    "                                                                                   schedule=True,\n",
    "                                                                                   nb_epochs=nb_epochs,\n",
    "                                                                                   intermediate_prints=False,\n",
    "                                                                                  )\n",
    "\n",
    "# Plot curves\n",
    "fig = plt.figure(figsize=(15, 9))\n",
    "\n",
    "plt.subplot(1,3,1)\n",
    "plt.plot(np.arange(nb_epochs)+1, epoch_train_losses_list1, color=plt.cm.viridis(0))\n",
    "plt.plot(np.arange(nb_epochs)+1, epoch_train_losses_list2, color=plt.cm.viridis(0.5))\n",
    "plt.plot(np.arange(nb_epochs)+1, epoch_train_losses_list3, color=plt.cm.viridis(.9))\n",
    "plt.plot(np.arange(nb_epochs)+1, epoch_train_losses_list4, color=plt.cm.viridis(1.3))\n",
    "plt.legend([\"SGD w/o momentum\", \"SGD w/ momentum\", \"ADAM\", \"SGD with scheduler\"])\n",
    "plt.xlabel(\"Epochs\")\n",
    "plt.ylabel(\"Train losses\")\n",
    "\n",
    "plt.subplot(1,3,2)\n",
    "plt.title(\"Losses and accuracy through epochs with several optimization algorithms\")\n",
    "plt.plot(np.arange(nb_epochs)+1, epoch_test_losses_list1, color=plt.cm.viridis(0))\n",
    "plt.plot(np.arange(nb_epochs)+1, epoch_test_losses_list2, color=plt.cm.viridis(0.5))\n",
    "plt.plot(np.arange(nb_epochs)+1, epoch_test_losses_list3, color=plt.cm.viridis(.9))\n",
    "plt.plot(np.arange(nb_epochs)+1, epoch_test_losses_list4, color=plt.cm.viridis(1.3))\n",
    "plt.legend([\"SGD w/o momentum\", \"SGD w/ momentum\", \"ADAM\", \"SGD with scheduler\"])\n",
    "plt.xlabel(\"Epochs\")\n",
    "plt.ylabel(\"Test losses\")\n",
    "\n",
    "plt.subplot(1,3,3)\n",
    "plt.plot(np.arange(nb_epochs)+1, epoch_accuracy_list1, color=plt.cm.viridis(0))\n",
    "plt.plot(np.arange(nb_epochs)+1, epoch_accuracy_list2, color=plt.cm.viridis(0.5))\n",
    "plt.plot(np.arange(nb_epochs)+1, epoch_accuracy_list3, color=plt.cm.viridis(.9))\n",
    "plt.plot(np.arange(nb_epochs)+1, epoch_accuracy_list4, color=plt.cm.viridis(1.3))\n",
    "plt.legend([\"SGD w/o momentum\", \"SGD w/ momentum\", \"ADAM\", \"SGD with scheduler\"])\n",
    "plt.xlabel(\"Epochs\")\n",
    "plt.ylabel(\"Accuracy\")\n",
    "\n",
    "\n",
    "\n",
    "plt.show()\n",
    "\n",
    "print(\"--- %s seconds ---\" % round((time.time() - start_time), 3))"
   ]
  },
  {
   "cell_type": "code",
   "execution_count": 69,
   "metadata": {
    "id": "DGytbtYdTjgD",
    "outputId": "5a12cc84-c538-4390-b81a-988689c3a041"
   },
   "outputs": [],
   "source": [
    "# Please leave your feeling about those algorithms: Which one seems to perform best on this task?\n",
    "\n",
    "myfavorite =  \"SGD with momentum\" \n",
    "\n",
    "#Note that we reinstanciate the model before each training since the parameters of the network are initialized at this time. If not, the parameters would be kept in memore between the consecutive trainings. "
   ]
  },
  {
   "cell_type": "markdown",
   "metadata": {},
   "source": [
    "Momentum in the context of optimization algorithms, particularly in machine learning, refers to a technique used to accelerate gradient descent by taking into account the past gradients to update weights\n",
    "\n",
    "\n",
    "\n",
    "**Taining Loss (Leftmost Graph):** SGD with momentum and ADAM both perform well, showing a steep decline and reaching lower training losses faster compared to SGD without momentum and SGD with a scheduler.\n",
    "\n",
    "**Test Loss (Middle Graph):** SGD with momentum shows the lowest test loss, indicating good generalization from the training data to the test data. ADAM also performs well but has a slight increase in test loss at the end, which could be an indication of starting to overfit or just a batch-specific anomaly.\n",
    "\n",
    "**Accuracy (Rightmost Graph):** SGD with momentum consistently improves in accuracy over the epochs and achieves the highest accuracy by the 5th epoch. ADAM starts well but then shows some volatility, suggesting that its learning rate might be too high, or it may require additional epochs to stabilize.\n",
    "SGD without momentum shows steady improvement but does not reach as high accuracy as SGD with momentum.\n",
    "SGD with a scheduler has lower performance in terms of accuracy. This could be due to the learning rate being reduced too quickly or not being optimal for this particular problem or network architecture."
   ]
  },
  {
   "cell_type": "markdown",
   "metadata": {
    "id": "4Gnn_J3YTjgE"
   },
   "source": [
    "<a id='ML'></a>\n",
    "## 2.4 - Train more classical ML algorithms"
   ]
  },
  {
   "cell_type": "markdown",
   "metadata": {
    "id": "adU9FAKUTjgE"
   },
   "source": [
    "**16) Implement a random forest and compute its accuracy on the MNIST test set. Compare with Neural Networks.**"
   ]
  },
  {
   "cell_type": "code",
   "execution_count": 28,
   "metadata": {
    "colab": {
     "base_uri": "https://localhost:8080/"
    },
    "id": "hB8rIplBTjgF",
    "outputId": "3945d453-46b6-4574-a7e0-15e361f5e21a"
   },
   "outputs": [
    {
     "name": "stdout",
     "output_type": "stream",
     "text": [
      "Random forest accuracy is 0.948\n",
      "Gradient boosting accuracy is 0.806\n"
     ]
    }
   ],
   "source": [
    "# Reload the training data\n",
    "trainset = datasets.MNIST('~/.pytorch/MNIST_data/', download=True, train=True)\n",
    "testset = datasets.MNIST('~/.pytorch/MNIST_data/', download=True, train=False)\n",
    "\n",
    "import numpy as np\n",
    "\n",
    "input_size = np.array(trainset[0][0]).shape[0] * np.array(trainset[0][0]).shape[1]\n",
    "train_size = len(trainset)\n",
    "test_size = len(testset)\n",
    "\n",
    "X_train = np.zeros((train_size,input_size))\n",
    "y_train = np.zeros(train_size)\n",
    "\n",
    "X_test = np.zeros((test_size,input_size))\n",
    "y_test = np.zeros(test_size)\n",
    "\n",
    "for i in range(train_size):\n",
    "    X_train[i] = np.ravel(trainset[i][0])\n",
    "    y_train[i] = trainset[i][1]\n",
    "    \n",
    "for i in range(test_size):\n",
    "    X_test[i] = np.ravel(testset[i][0])\n",
    "    y_test[i] = testset[i][1]\n",
    "\n",
    "#Implement classical machine learning methods. Warning: LogisticRegression and LinearSVC take a long time to run\n",
    "\n",
    "from sklearn.ensemble import RandomForestClassifier\n",
    "\n",
    "rfc = RandomForestClassifier(n_jobs=-1, n_estimators=10)\n",
    "rfc.fit(X_train, y_train)\n",
    "accuracy_rf = rfc.score(X_test, y_test)\n",
    "\n",
    "\n",
    "from sklearn.ensemble import GradientBoostingClassifier\n",
    "gbc = GradientBoostingClassifier(subsample=0.01, n_estimators=10)\n",
    "gbc.fit(X_train, y_train)\n",
    "accuracy_gb = gbc.score(X_test, y_test)\n",
    "\n",
    "#Too long to run\n",
    "#from sklearn.linear_model import LogisticRegression\n",
    "#lr = LogisticRegression()\n",
    "#lr.fit(X_train, y_train)\n",
    "#accuracy_lr = lr.score(X_test, y_test)\n",
    "\n",
    "# #Too long to run\n",
    "#from sklearn.svm import LinearSVC\n",
    "#svcl = LinearSVC()\n",
    "#svcl.fit(X_train, y_train)\n",
    "#accuracy_svc = svcl.score(X_test, y_test)\n",
    "\n",
    "print(\"Random forest accuracy is %.3f\" % accuracy_rf)\n",
    "print(\"Gradient boosting accuracy is %.3f\" % accuracy_gb) \n",
    "#print(\"Logistic regression accuracy is\", round(accuracy_lr, 3))\n",
    "#print(\"SVC accuracy is\", round(accuracy_svc, 3))\n",
    "\n",
    "################## END TODO BLOCK\n",
    "\n"
   ]
  },
  {
   "cell_type": "code",
   "execution_count": null,
   "metadata": {},
   "outputs": [],
   "source": []
  }
 ],
 "metadata": {
  "anaconda-cloud": {},
  "colab": {
   "name": "Lab_3_-Pytorch_Correction_complete.ipynb",
   "provenance": []
  },
  "kernelspec": {
   "display_name": "Python 3 (ipykernel)",
   "language": "python",
   "name": "python3"
  },
  "language_info": {
   "codemirror_mode": {
    "name": "ipython",
    "version": 3
   },
   "file_extension": ".py",
   "mimetype": "text/x-python",
   "name": "python",
   "nbconvert_exporter": "python",
   "pygments_lexer": "ipython3",
   "version": "3.11.4"
  },
  "widgets": {
   "application/vnd.jupyter.widget-state+json": {
    "0059c7c81fc540928ebd87d76528fbe5": {
     "model_module": "@jupyter-widgets/base",
     "model_module_version": "1.2.0",
     "model_name": "LayoutModel",
     "state": {
      "_model_module": "@jupyter-widgets/base",
      "_model_module_version": "1.2.0",
      "_model_name": "LayoutModel",
      "_view_count": null,
      "_view_module": "@jupyter-widgets/base",
      "_view_module_version": "1.2.0",
      "_view_name": "LayoutView",
      "align_content": null,
      "align_items": null,
      "align_self": null,
      "border": null,
      "bottom": null,
      "display": null,
      "flex": null,
      "flex_flow": null,
      "grid_area": null,
      "grid_auto_columns": null,
      "grid_auto_flow": null,
      "grid_auto_rows": null,
      "grid_column": null,
      "grid_gap": null,
      "grid_row": null,
      "grid_template_areas": null,
      "grid_template_columns": null,
      "grid_template_rows": null,
      "height": null,
      "justify_content": null,
      "justify_items": null,
      "left": null,
      "margin": null,
      "max_height": null,
      "max_width": null,
      "min_height": null,
      "min_width": null,
      "object_fit": null,
      "object_position": null,
      "order": null,
      "overflow": null,
      "overflow_x": null,
      "overflow_y": null,
      "padding": null,
      "right": null,
      "top": null,
      "visibility": null,
      "width": null
     }
    },
    "0320b93594ae48948899f4a2cf476f0c": {
     "model_module": "@jupyter-widgets/controls",
     "model_module_version": "1.5.0",
     "model_name": "HTMLModel",
     "state": {
      "_dom_classes": [],
      "_model_module": "@jupyter-widgets/controls",
      "_model_module_version": "1.5.0",
      "_model_name": "HTMLModel",
      "_view_count": null,
      "_view_module": "@jupyter-widgets/controls",
      "_view_module_version": "1.5.0",
      "_view_name": "HTMLView",
      "description": "",
      "description_tooltip": null,
      "layout": "IPY_MODEL_0059c7c81fc540928ebd87d76528fbe5",
      "placeholder": "​",
      "style": "IPY_MODEL_2a1843b8178241df840631d909f34cd7",
      "value": " 1649664/? [00:00&lt;00:00, 15594531.01it/s]"
     }
    },
    "0348beaf38294c319831de4cac381e16": {
     "model_module": "@jupyter-widgets/controls",
     "model_module_version": "1.5.0",
     "model_name": "DescriptionStyleModel",
     "state": {
      "_model_module": "@jupyter-widgets/controls",
      "_model_module_version": "1.5.0",
      "_model_name": "DescriptionStyleModel",
      "_view_count": null,
      "_view_module": "@jupyter-widgets/base",
      "_view_module_version": "1.2.0",
      "_view_name": "StyleView",
      "description_width": ""
     }
    },
    "057dc730d8eb456eb09a28221d0de8e5": {
     "model_module": "@jupyter-widgets/controls",
     "model_module_version": "1.5.0",
     "model_name": "HTMLModel",
     "state": {
      "_dom_classes": [],
      "_model_module": "@jupyter-widgets/controls",
      "_model_module_version": "1.5.0",
      "_model_name": "HTMLModel",
      "_view_count": null,
      "_view_module": "@jupyter-widgets/controls",
      "_view_module_version": "1.5.0",
      "_view_name": "HTMLView",
      "description": "",
      "description_tooltip": null,
      "layout": "IPY_MODEL_25441dca0b18494581ecc392c13353a6",
      "placeholder": "​",
      "style": "IPY_MODEL_0348beaf38294c319831de4cac381e16",
      "value": ""
     }
    },
    "07a1da1ee315409784849433a60774aa": {
     "model_module": "@jupyter-widgets/base",
     "model_module_version": "1.2.0",
     "model_name": "LayoutModel",
     "state": {
      "_model_module": "@jupyter-widgets/base",
      "_model_module_version": "1.2.0",
      "_model_name": "LayoutModel",
      "_view_count": null,
      "_view_module": "@jupyter-widgets/base",
      "_view_module_version": "1.2.0",
      "_view_name": "LayoutView",
      "align_content": null,
      "align_items": null,
      "align_self": null,
      "border": null,
      "bottom": null,
      "display": null,
      "flex": null,
      "flex_flow": null,
      "grid_area": null,
      "grid_auto_columns": null,
      "grid_auto_flow": null,
      "grid_auto_rows": null,
      "grid_column": null,
      "grid_gap": null,
      "grid_row": null,
      "grid_template_areas": null,
      "grid_template_columns": null,
      "grid_template_rows": null,
      "height": null,
      "justify_content": null,
      "justify_items": null,
      "left": null,
      "margin": null,
      "max_height": null,
      "max_width": null,
      "min_height": null,
      "min_width": null,
      "object_fit": null,
      "object_position": null,
      "order": null,
      "overflow": null,
      "overflow_x": null,
      "overflow_y": null,
      "padding": null,
      "right": null,
      "top": null,
      "visibility": null,
      "width": null
     }
    },
    "07d1aeca36d64d46964ead5de21988a9": {
     "model_module": "@jupyter-widgets/controls",
     "model_module_version": "1.5.0",
     "model_name": "HBoxModel",
     "state": {
      "_dom_classes": [],
      "_model_module": "@jupyter-widgets/controls",
      "_model_module_version": "1.5.0",
      "_model_name": "HBoxModel",
      "_view_count": null,
      "_view_module": "@jupyter-widgets/controls",
      "_view_module_version": "1.5.0",
      "_view_name": "HBoxView",
      "box_style": "",
      "children": [
       "IPY_MODEL_fc60571224334b32b7370f2f117491a1",
       "IPY_MODEL_6b97a859e2a642dbb37b0f49bf9d6c87",
       "IPY_MODEL_3a5ff2ddf44742c4bc2d91c9e2a840f6"
      ],
      "layout": "IPY_MODEL_7fdb04b47d644316869fda0b4e194411"
     }
    },
    "08be42244e434b99bf92c8bd932ad9c1": {
     "model_module": "@jupyter-widgets/controls",
     "model_module_version": "1.5.0",
     "model_name": "DescriptionStyleModel",
     "state": {
      "_model_module": "@jupyter-widgets/controls",
      "_model_module_version": "1.5.0",
      "_model_name": "DescriptionStyleModel",
      "_view_count": null,
      "_view_module": "@jupyter-widgets/base",
      "_view_module_version": "1.2.0",
      "_view_name": "StyleView",
      "description_width": ""
     }
    },
    "0d34075684734b5081a69120c90e8899": {
     "model_module": "@jupyter-widgets/controls",
     "model_module_version": "1.5.0",
     "model_name": "ProgressStyleModel",
     "state": {
      "_model_module": "@jupyter-widgets/controls",
      "_model_module_version": "1.5.0",
      "_model_name": "ProgressStyleModel",
      "_view_count": null,
      "_view_module": "@jupyter-widgets/base",
      "_view_module_version": "1.2.0",
      "_view_name": "StyleView",
      "bar_color": null,
      "description_width": ""
     }
    },
    "1102c816ac1b46ae953181b2e8a887fe": {
     "model_module": "@jupyter-widgets/controls",
     "model_module_version": "1.5.0",
     "model_name": "HBoxModel",
     "state": {
      "_dom_classes": [],
      "_model_module": "@jupyter-widgets/controls",
      "_model_module_version": "1.5.0",
      "_model_name": "HBoxModel",
      "_view_count": null,
      "_view_module": "@jupyter-widgets/controls",
      "_view_module_version": "1.5.0",
      "_view_name": "HBoxView",
      "box_style": "",
      "children": [
       "IPY_MODEL_a37cb97eaa144771bc65686dfe2eb1b6",
       "IPY_MODEL_cfc35b14e9874c6a92c004d009be2dde",
       "IPY_MODEL_7f348aa519774eb1a5ac4aacd367d7bd"
      ],
      "layout": "IPY_MODEL_07a1da1ee315409784849433a60774aa"
     }
    },
    "165c9f3c951348f0addd59ccf4eb991f": {
     "model_module": "@jupyter-widgets/base",
     "model_module_version": "1.2.0",
     "model_name": "LayoutModel",
     "state": {
      "_model_module": "@jupyter-widgets/base",
      "_model_module_version": "1.2.0",
      "_model_name": "LayoutModel",
      "_view_count": null,
      "_view_module": "@jupyter-widgets/base",
      "_view_module_version": "1.2.0",
      "_view_name": "LayoutView",
      "align_content": null,
      "align_items": null,
      "align_self": null,
      "border": null,
      "bottom": null,
      "display": null,
      "flex": null,
      "flex_flow": null,
      "grid_area": null,
      "grid_auto_columns": null,
      "grid_auto_flow": null,
      "grid_auto_rows": null,
      "grid_column": null,
      "grid_gap": null,
      "grid_row": null,
      "grid_template_areas": null,
      "grid_template_columns": null,
      "grid_template_rows": null,
      "height": null,
      "justify_content": null,
      "justify_items": null,
      "left": null,
      "margin": null,
      "max_height": null,
      "max_width": null,
      "min_height": null,
      "min_width": null,
      "object_fit": null,
      "object_position": null,
      "order": null,
      "overflow": null,
      "overflow_x": null,
      "overflow_y": null,
      "padding": null,
      "right": null,
      "top": null,
      "visibility": null,
      "width": null
     }
    },
    "1dda75d3a9434b46b0e39542e7563ed6": {
     "model_module": "@jupyter-widgets/controls",
     "model_module_version": "1.5.0",
     "model_name": "DescriptionStyleModel",
     "state": {
      "_model_module": "@jupyter-widgets/controls",
      "_model_module_version": "1.5.0",
      "_model_name": "DescriptionStyleModel",
      "_view_count": null,
      "_view_module": "@jupyter-widgets/base",
      "_view_module_version": "1.2.0",
      "_view_name": "StyleView",
      "description_width": ""
     }
    },
    "25441dca0b18494581ecc392c13353a6": {
     "model_module": "@jupyter-widgets/base",
     "model_module_version": "1.2.0",
     "model_name": "LayoutModel",
     "state": {
      "_model_module": "@jupyter-widgets/base",
      "_model_module_version": "1.2.0",
      "_model_name": "LayoutModel",
      "_view_count": null,
      "_view_module": "@jupyter-widgets/base",
      "_view_module_version": "1.2.0",
      "_view_name": "LayoutView",
      "align_content": null,
      "align_items": null,
      "align_self": null,
      "border": null,
      "bottom": null,
      "display": null,
      "flex": null,
      "flex_flow": null,
      "grid_area": null,
      "grid_auto_columns": null,
      "grid_auto_flow": null,
      "grid_auto_rows": null,
      "grid_column": null,
      "grid_gap": null,
      "grid_row": null,
      "grid_template_areas": null,
      "grid_template_columns": null,
      "grid_template_rows": null,
      "height": null,
      "justify_content": null,
      "justify_items": null,
      "left": null,
      "margin": null,
      "max_height": null,
      "max_width": null,
      "min_height": null,
      "min_width": null,
      "object_fit": null,
      "object_position": null,
      "order": null,
      "overflow": null,
      "overflow_x": null,
      "overflow_y": null,
      "padding": null,
      "right": null,
      "top": null,
      "visibility": null,
      "width": null
     }
    },
    "268f0438b49241928ef19b755a1d1cfc": {
     "model_module": "@jupyter-widgets/base",
     "model_module_version": "1.2.0",
     "model_name": "LayoutModel",
     "state": {
      "_model_module": "@jupyter-widgets/base",
      "_model_module_version": "1.2.0",
      "_model_name": "LayoutModel",
      "_view_count": null,
      "_view_module": "@jupyter-widgets/base",
      "_view_module_version": "1.2.0",
      "_view_name": "LayoutView",
      "align_content": null,
      "align_items": null,
      "align_self": null,
      "border": null,
      "bottom": null,
      "display": null,
      "flex": null,
      "flex_flow": null,
      "grid_area": null,
      "grid_auto_columns": null,
      "grid_auto_flow": null,
      "grid_auto_rows": null,
      "grid_column": null,
      "grid_gap": null,
      "grid_row": null,
      "grid_template_areas": null,
      "grid_template_columns": null,
      "grid_template_rows": null,
      "height": null,
      "justify_content": null,
      "justify_items": null,
      "left": null,
      "margin": null,
      "max_height": null,
      "max_width": null,
      "min_height": null,
      "min_width": null,
      "object_fit": null,
      "object_position": null,
      "order": null,
      "overflow": null,
      "overflow_x": null,
      "overflow_y": null,
      "padding": null,
      "right": null,
      "top": null,
      "visibility": null,
      "width": null
     }
    },
    "2a1843b8178241df840631d909f34cd7": {
     "model_module": "@jupyter-widgets/controls",
     "model_module_version": "1.5.0",
     "model_name": "DescriptionStyleModel",
     "state": {
      "_model_module": "@jupyter-widgets/controls",
      "_model_module_version": "1.5.0",
      "_model_name": "DescriptionStyleModel",
      "_view_count": null,
      "_view_module": "@jupyter-widgets/base",
      "_view_module_version": "1.2.0",
      "_view_name": "StyleView",
      "description_width": ""
     }
    },
    "2dcfe04288704afdb30ab2760e01fc19": {
     "model_module": "@jupyter-widgets/controls",
     "model_module_version": "1.5.0",
     "model_name": "ProgressStyleModel",
     "state": {
      "_model_module": "@jupyter-widgets/controls",
      "_model_module_version": "1.5.0",
      "_model_name": "ProgressStyleModel",
      "_view_count": null,
      "_view_module": "@jupyter-widgets/base",
      "_view_module_version": "1.2.0",
      "_view_name": "StyleView",
      "bar_color": null,
      "description_width": ""
     }
    },
    "35259a6c8b904014b441a5a6f9d4fc0b": {
     "model_module": "@jupyter-widgets/controls",
     "model_module_version": "1.5.0",
     "model_name": "ProgressStyleModel",
     "state": {
      "_model_module": "@jupyter-widgets/controls",
      "_model_module_version": "1.5.0",
      "_model_name": "ProgressStyleModel",
      "_view_count": null,
      "_view_module": "@jupyter-widgets/base",
      "_view_module_version": "1.2.0",
      "_view_name": "StyleView",
      "bar_color": null,
      "description_width": ""
     }
    },
    "3a5ff2ddf44742c4bc2d91c9e2a840f6": {
     "model_module": "@jupyter-widgets/controls",
     "model_module_version": "1.5.0",
     "model_name": "HTMLModel",
     "state": {
      "_dom_classes": [],
      "_model_module": "@jupyter-widgets/controls",
      "_model_module_version": "1.5.0",
      "_model_name": "HTMLModel",
      "_view_count": null,
      "_view_module": "@jupyter-widgets/controls",
      "_view_module_version": "1.5.0",
      "_view_name": "HTMLView",
      "description": "",
      "description_tooltip": null,
      "layout": "IPY_MODEL_268f0438b49241928ef19b755a1d1cfc",
      "placeholder": "​",
      "style": "IPY_MODEL_d5f297897182429f96dd5f482049e95c",
      "value": " 9913344/? [00:00&lt;00:00, 21831041.09it/s]"
     }
    },
    "44b6bf2a83b34cdb96ca9134ef48fa5d": {
     "model_module": "@jupyter-widgets/base",
     "model_module_version": "1.2.0",
     "model_name": "LayoutModel",
     "state": {
      "_model_module": "@jupyter-widgets/base",
      "_model_module_version": "1.2.0",
      "_model_name": "LayoutModel",
      "_view_count": null,
      "_view_module": "@jupyter-widgets/base",
      "_view_module_version": "1.2.0",
      "_view_name": "LayoutView",
      "align_content": null,
      "align_items": null,
      "align_self": null,
      "border": null,
      "bottom": null,
      "display": null,
      "flex": null,
      "flex_flow": null,
      "grid_area": null,
      "grid_auto_columns": null,
      "grid_auto_flow": null,
      "grid_auto_rows": null,
      "grid_column": null,
      "grid_gap": null,
      "grid_row": null,
      "grid_template_areas": null,
      "grid_template_columns": null,
      "grid_template_rows": null,
      "height": null,
      "justify_content": null,
      "justify_items": null,
      "left": null,
      "margin": null,
      "max_height": null,
      "max_width": null,
      "min_height": null,
      "min_width": null,
      "object_fit": null,
      "object_position": null,
      "order": null,
      "overflow": null,
      "overflow_x": null,
      "overflow_y": null,
      "padding": null,
      "right": null,
      "top": null,
      "visibility": null,
      "width": null
     }
    },
    "4daae5b5d788429bafb097d7c1c6f08d": {
     "model_module": "@jupyter-widgets/controls",
     "model_module_version": "1.5.0",
     "model_name": "HTMLModel",
     "state": {
      "_dom_classes": [],
      "_model_module": "@jupyter-widgets/controls",
      "_model_module_version": "1.5.0",
      "_model_name": "HTMLModel",
      "_view_count": null,
      "_view_module": "@jupyter-widgets/controls",
      "_view_module_version": "1.5.0",
      "_view_name": "HTMLView",
      "description": "",
      "description_tooltip": null,
      "layout": "IPY_MODEL_5bb80a083f2c425499209f8ba3e8f348",
      "placeholder": "​",
      "style": "IPY_MODEL_73b480ea46a54db790db9f06d34bd5fe",
      "value": " 29696/? [00:00&lt;00:00, 596777.61it/s]"
     }
    },
    "50a937c4bf3948b19eb776306a3214ad": {
     "model_module": "@jupyter-widgets/controls",
     "model_module_version": "1.5.0",
     "model_name": "HTMLModel",
     "state": {
      "_dom_classes": [],
      "_model_module": "@jupyter-widgets/controls",
      "_model_module_version": "1.5.0",
      "_model_name": "HTMLModel",
      "_view_count": null,
      "_view_module": "@jupyter-widgets/controls",
      "_view_module_version": "1.5.0",
      "_view_name": "HTMLView",
      "description": "",
      "description_tooltip": null,
      "layout": "IPY_MODEL_6817cc69bf3e4f208f43bca350dc2f7c",
      "placeholder": "​",
      "style": "IPY_MODEL_1dda75d3a9434b46b0e39542e7563ed6",
      "value": ""
     }
    },
    "53f4cd09965b40ccb2f45b72989b2c25": {
     "model_module": "@jupyter-widgets/controls",
     "model_module_version": "1.5.0",
     "model_name": "FloatProgressModel",
     "state": {
      "_dom_classes": [],
      "_model_module": "@jupyter-widgets/controls",
      "_model_module_version": "1.5.0",
      "_model_name": "FloatProgressModel",
      "_view_count": null,
      "_view_module": "@jupyter-widgets/controls",
      "_view_module_version": "1.5.0",
      "_view_name": "ProgressView",
      "bar_style": "success",
      "description": "",
      "description_tooltip": null,
      "layout": "IPY_MODEL_c190a53572394a469139391fbd4074f0",
      "max": 1648877,
      "min": 0,
      "orientation": "horizontal",
      "style": "IPY_MODEL_2dcfe04288704afdb30ab2760e01fc19",
      "value": 1648877
     }
    },
    "5bb80a083f2c425499209f8ba3e8f348": {
     "model_module": "@jupyter-widgets/base",
     "model_module_version": "1.2.0",
     "model_name": "LayoutModel",
     "state": {
      "_model_module": "@jupyter-widgets/base",
      "_model_module_version": "1.2.0",
      "_model_name": "LayoutModel",
      "_view_count": null,
      "_view_module": "@jupyter-widgets/base",
      "_view_module_version": "1.2.0",
      "_view_name": "LayoutView",
      "align_content": null,
      "align_items": null,
      "align_self": null,
      "border": null,
      "bottom": null,
      "display": null,
      "flex": null,
      "flex_flow": null,
      "grid_area": null,
      "grid_auto_columns": null,
      "grid_auto_flow": null,
      "grid_auto_rows": null,
      "grid_column": null,
      "grid_gap": null,
      "grid_row": null,
      "grid_template_areas": null,
      "grid_template_columns": null,
      "grid_template_rows": null,
      "height": null,
      "justify_content": null,
      "justify_items": null,
      "left": null,
      "margin": null,
      "max_height": null,
      "max_width": null,
      "min_height": null,
      "min_width": null,
      "object_fit": null,
      "object_position": null,
      "order": null,
      "overflow": null,
      "overflow_x": null,
      "overflow_y": null,
      "padding": null,
      "right": null,
      "top": null,
      "visibility": null,
      "width": null
     }
    },
    "5dc57b9e72e34e80ba049fb70e8a1002": {
     "model_module": "@jupyter-widgets/controls",
     "model_module_version": "1.5.0",
     "model_name": "HBoxModel",
     "state": {
      "_dom_classes": [],
      "_model_module": "@jupyter-widgets/controls",
      "_model_module_version": "1.5.0",
      "_model_name": "HBoxModel",
      "_view_count": null,
      "_view_module": "@jupyter-widgets/controls",
      "_view_module_version": "1.5.0",
      "_view_name": "HBoxView",
      "box_style": "",
      "children": [
       "IPY_MODEL_057dc730d8eb456eb09a28221d0de8e5",
       "IPY_MODEL_53f4cd09965b40ccb2f45b72989b2c25",
       "IPY_MODEL_0320b93594ae48948899f4a2cf476f0c"
      ],
      "layout": "IPY_MODEL_6b6d3e96046243b78418b81e7061574d"
     }
    },
    "5e448e08f6454a8286e8e0cc29f320ff": {
     "model_module": "@jupyter-widgets/base",
     "model_module_version": "1.2.0",
     "model_name": "LayoutModel",
     "state": {
      "_model_module": "@jupyter-widgets/base",
      "_model_module_version": "1.2.0",
      "_model_name": "LayoutModel",
      "_view_count": null,
      "_view_module": "@jupyter-widgets/base",
      "_view_module_version": "1.2.0",
      "_view_name": "LayoutView",
      "align_content": null,
      "align_items": null,
      "align_self": null,
      "border": null,
      "bottom": null,
      "display": null,
      "flex": null,
      "flex_flow": null,
      "grid_area": null,
      "grid_auto_columns": null,
      "grid_auto_flow": null,
      "grid_auto_rows": null,
      "grid_column": null,
      "grid_gap": null,
      "grid_row": null,
      "grid_template_areas": null,
      "grid_template_columns": null,
      "grid_template_rows": null,
      "height": null,
      "justify_content": null,
      "justify_items": null,
      "left": null,
      "margin": null,
      "max_height": null,
      "max_width": null,
      "min_height": null,
      "min_width": null,
      "object_fit": null,
      "object_position": null,
      "order": null,
      "overflow": null,
      "overflow_x": null,
      "overflow_y": null,
      "padding": null,
      "right": null,
      "top": null,
      "visibility": null,
      "width": null
     }
    },
    "6817cc69bf3e4f208f43bca350dc2f7c": {
     "model_module": "@jupyter-widgets/base",
     "model_module_version": "1.2.0",
     "model_name": "LayoutModel",
     "state": {
      "_model_module": "@jupyter-widgets/base",
      "_model_module_version": "1.2.0",
      "_model_name": "LayoutModel",
      "_view_count": null,
      "_view_module": "@jupyter-widgets/base",
      "_view_module_version": "1.2.0",
      "_view_name": "LayoutView",
      "align_content": null,
      "align_items": null,
      "align_self": null,
      "border": null,
      "bottom": null,
      "display": null,
      "flex": null,
      "flex_flow": null,
      "grid_area": null,
      "grid_auto_columns": null,
      "grid_auto_flow": null,
      "grid_auto_rows": null,
      "grid_column": null,
      "grid_gap": null,
      "grid_row": null,
      "grid_template_areas": null,
      "grid_template_columns": null,
      "grid_template_rows": null,
      "height": null,
      "justify_content": null,
      "justify_items": null,
      "left": null,
      "margin": null,
      "max_height": null,
      "max_width": null,
      "min_height": null,
      "min_width": null,
      "object_fit": null,
      "object_position": null,
      "order": null,
      "overflow": null,
      "overflow_x": null,
      "overflow_y": null,
      "padding": null,
      "right": null,
      "top": null,
      "visibility": null,
      "width": null
     }
    },
    "6b6d3e96046243b78418b81e7061574d": {
     "model_module": "@jupyter-widgets/base",
     "model_module_version": "1.2.0",
     "model_name": "LayoutModel",
     "state": {
      "_model_module": "@jupyter-widgets/base",
      "_model_module_version": "1.2.0",
      "_model_name": "LayoutModel",
      "_view_count": null,
      "_view_module": "@jupyter-widgets/base",
      "_view_module_version": "1.2.0",
      "_view_name": "LayoutView",
      "align_content": null,
      "align_items": null,
      "align_self": null,
      "border": null,
      "bottom": null,
      "display": null,
      "flex": null,
      "flex_flow": null,
      "grid_area": null,
      "grid_auto_columns": null,
      "grid_auto_flow": null,
      "grid_auto_rows": null,
      "grid_column": null,
      "grid_gap": null,
      "grid_row": null,
      "grid_template_areas": null,
      "grid_template_columns": null,
      "grid_template_rows": null,
      "height": null,
      "justify_content": null,
      "justify_items": null,
      "left": null,
      "margin": null,
      "max_height": null,
      "max_width": null,
      "min_height": null,
      "min_width": null,
      "object_fit": null,
      "object_position": null,
      "order": null,
      "overflow": null,
      "overflow_x": null,
      "overflow_y": null,
      "padding": null,
      "right": null,
      "top": null,
      "visibility": null,
      "width": null
     }
    },
    "6b97a859e2a642dbb37b0f49bf9d6c87": {
     "model_module": "@jupyter-widgets/controls",
     "model_module_version": "1.5.0",
     "model_name": "FloatProgressModel",
     "state": {
      "_dom_classes": [],
      "_model_module": "@jupyter-widgets/controls",
      "_model_module_version": "1.5.0",
      "_model_name": "FloatProgressModel",
      "_view_count": null,
      "_view_module": "@jupyter-widgets/controls",
      "_view_module_version": "1.5.0",
      "_view_name": "ProgressView",
      "bar_style": "success",
      "description": "",
      "description_tooltip": null,
      "layout": "IPY_MODEL_843af640934347f0bc0436e98bd3b8ce",
      "max": 9912422,
      "min": 0,
      "orientation": "horizontal",
      "style": "IPY_MODEL_35259a6c8b904014b441a5a6f9d4fc0b",
      "value": 9912422
     }
    },
    "6dc0dcf3b102406abe39970220687890": {
     "model_module": "@jupyter-widgets/base",
     "model_module_version": "1.2.0",
     "model_name": "LayoutModel",
     "state": {
      "_model_module": "@jupyter-widgets/base",
      "_model_module_version": "1.2.0",
      "_model_name": "LayoutModel",
      "_view_count": null,
      "_view_module": "@jupyter-widgets/base",
      "_view_module_version": "1.2.0",
      "_view_name": "LayoutView",
      "align_content": null,
      "align_items": null,
      "align_self": null,
      "border": null,
      "bottom": null,
      "display": null,
      "flex": null,
      "flex_flow": null,
      "grid_area": null,
      "grid_auto_columns": null,
      "grid_auto_flow": null,
      "grid_auto_rows": null,
      "grid_column": null,
      "grid_gap": null,
      "grid_row": null,
      "grid_template_areas": null,
      "grid_template_columns": null,
      "grid_template_rows": null,
      "height": null,
      "justify_content": null,
      "justify_items": null,
      "left": null,
      "margin": null,
      "max_height": null,
      "max_width": null,
      "min_height": null,
      "min_width": null,
      "object_fit": null,
      "object_position": null,
      "order": null,
      "overflow": null,
      "overflow_x": null,
      "overflow_y": null,
      "padding": null,
      "right": null,
      "top": null,
      "visibility": null,
      "width": null
     }
    },
    "73b480ea46a54db790db9f06d34bd5fe": {
     "model_module": "@jupyter-widgets/controls",
     "model_module_version": "1.5.0",
     "model_name": "DescriptionStyleModel",
     "state": {
      "_model_module": "@jupyter-widgets/controls",
      "_model_module_version": "1.5.0",
      "_model_name": "DescriptionStyleModel",
      "_view_count": null,
      "_view_module": "@jupyter-widgets/base",
      "_view_module_version": "1.2.0",
      "_view_name": "StyleView",
      "description_width": ""
     }
    },
    "7a6d35a778c84cb081a4fde3b21dc835": {
     "model_module": "@jupyter-widgets/base",
     "model_module_version": "1.2.0",
     "model_name": "LayoutModel",
     "state": {
      "_model_module": "@jupyter-widgets/base",
      "_model_module_version": "1.2.0",
      "_model_name": "LayoutModel",
      "_view_count": null,
      "_view_module": "@jupyter-widgets/base",
      "_view_module_version": "1.2.0",
      "_view_name": "LayoutView",
      "align_content": null,
      "align_items": null,
      "align_self": null,
      "border": null,
      "bottom": null,
      "display": null,
      "flex": null,
      "flex_flow": null,
      "grid_area": null,
      "grid_auto_columns": null,
      "grid_auto_flow": null,
      "grid_auto_rows": null,
      "grid_column": null,
      "grid_gap": null,
      "grid_row": null,
      "grid_template_areas": null,
      "grid_template_columns": null,
      "grid_template_rows": null,
      "height": null,
      "justify_content": null,
      "justify_items": null,
      "left": null,
      "margin": null,
      "max_height": null,
      "max_width": null,
      "min_height": null,
      "min_width": null,
      "object_fit": null,
      "object_position": null,
      "order": null,
      "overflow": null,
      "overflow_x": null,
      "overflow_y": null,
      "padding": null,
      "right": null,
      "top": null,
      "visibility": null,
      "width": null
     }
    },
    "7f348aa519774eb1a5ac4aacd367d7bd": {
     "model_module": "@jupyter-widgets/controls",
     "model_module_version": "1.5.0",
     "model_name": "HTMLModel",
     "state": {
      "_dom_classes": [],
      "_model_module": "@jupyter-widgets/controls",
      "_model_module_version": "1.5.0",
      "_model_name": "HTMLModel",
      "_view_count": null,
      "_view_module": "@jupyter-widgets/controls",
      "_view_module_version": "1.5.0",
      "_view_name": "HTMLView",
      "description": "",
      "description_tooltip": null,
      "layout": "IPY_MODEL_44b6bf2a83b34cdb96ca9134ef48fa5d",
      "placeholder": "​",
      "style": "IPY_MODEL_90097f54c1ff421f9366b700b9584e79",
      "value": " 5120/? [00:00&lt;00:00, 154537.47it/s]"
     }
    },
    "7fdb04b47d644316869fda0b4e194411": {
     "model_module": "@jupyter-widgets/base",
     "model_module_version": "1.2.0",
     "model_name": "LayoutModel",
     "state": {
      "_model_module": "@jupyter-widgets/base",
      "_model_module_version": "1.2.0",
      "_model_name": "LayoutModel",
      "_view_count": null,
      "_view_module": "@jupyter-widgets/base",
      "_view_module_version": "1.2.0",
      "_view_name": "LayoutView",
      "align_content": null,
      "align_items": null,
      "align_self": null,
      "border": null,
      "bottom": null,
      "display": null,
      "flex": null,
      "flex_flow": null,
      "grid_area": null,
      "grid_auto_columns": null,
      "grid_auto_flow": null,
      "grid_auto_rows": null,
      "grid_column": null,
      "grid_gap": null,
      "grid_row": null,
      "grid_template_areas": null,
      "grid_template_columns": null,
      "grid_template_rows": null,
      "height": null,
      "justify_content": null,
      "justify_items": null,
      "left": null,
      "margin": null,
      "max_height": null,
      "max_width": null,
      "min_height": null,
      "min_width": null,
      "object_fit": null,
      "object_position": null,
      "order": null,
      "overflow": null,
      "overflow_x": null,
      "overflow_y": null,
      "padding": null,
      "right": null,
      "top": null,
      "visibility": null,
      "width": null
     }
    },
    "843af640934347f0bc0436e98bd3b8ce": {
     "model_module": "@jupyter-widgets/base",
     "model_module_version": "1.2.0",
     "model_name": "LayoutModel",
     "state": {
      "_model_module": "@jupyter-widgets/base",
      "_model_module_version": "1.2.0",
      "_model_name": "LayoutModel",
      "_view_count": null,
      "_view_module": "@jupyter-widgets/base",
      "_view_module_version": "1.2.0",
      "_view_name": "LayoutView",
      "align_content": null,
      "align_items": null,
      "align_self": null,
      "border": null,
      "bottom": null,
      "display": null,
      "flex": null,
      "flex_flow": null,
      "grid_area": null,
      "grid_auto_columns": null,
      "grid_auto_flow": null,
      "grid_auto_rows": null,
      "grid_column": null,
      "grid_gap": null,
      "grid_row": null,
      "grid_template_areas": null,
      "grid_template_columns": null,
      "grid_template_rows": null,
      "height": null,
      "justify_content": null,
      "justify_items": null,
      "left": null,
      "margin": null,
      "max_height": null,
      "max_width": null,
      "min_height": null,
      "min_width": null,
      "object_fit": null,
      "object_position": null,
      "order": null,
      "overflow": null,
      "overflow_x": null,
      "overflow_y": null,
      "padding": null,
      "right": null,
      "top": null,
      "visibility": null,
      "width": null
     }
    },
    "8f4a0cc36828418e9428c705d3545cea": {
     "model_module": "@jupyter-widgets/controls",
     "model_module_version": "1.5.0",
     "model_name": "ProgressStyleModel",
     "state": {
      "_model_module": "@jupyter-widgets/controls",
      "_model_module_version": "1.5.0",
      "_model_name": "ProgressStyleModel",
      "_view_count": null,
      "_view_module": "@jupyter-widgets/base",
      "_view_module_version": "1.2.0",
      "_view_name": "StyleView",
      "bar_color": null,
      "description_width": ""
     }
    },
    "90097f54c1ff421f9366b700b9584e79": {
     "model_module": "@jupyter-widgets/controls",
     "model_module_version": "1.5.0",
     "model_name": "DescriptionStyleModel",
     "state": {
      "_model_module": "@jupyter-widgets/controls",
      "_model_module_version": "1.5.0",
      "_model_name": "DescriptionStyleModel",
      "_view_count": null,
      "_view_module": "@jupyter-widgets/base",
      "_view_module_version": "1.2.0",
      "_view_name": "StyleView",
      "description_width": ""
     }
    },
    "a37cb97eaa144771bc65686dfe2eb1b6": {
     "model_module": "@jupyter-widgets/controls",
     "model_module_version": "1.5.0",
     "model_name": "HTMLModel",
     "state": {
      "_dom_classes": [],
      "_model_module": "@jupyter-widgets/controls",
      "_model_module_version": "1.5.0",
      "_model_name": "HTMLModel",
      "_view_count": null,
      "_view_module": "@jupyter-widgets/controls",
      "_view_module_version": "1.5.0",
      "_view_name": "HTMLView",
      "description": "",
      "description_tooltip": null,
      "layout": "IPY_MODEL_5e448e08f6454a8286e8e0cc29f320ff",
      "placeholder": "​",
      "style": "IPY_MODEL_08be42244e434b99bf92c8bd932ad9c1",
      "value": ""
     }
    },
    "ba257ea6c6db463bbdae73bfa7437c83": {
     "model_module": "@jupyter-widgets/base",
     "model_module_version": "1.2.0",
     "model_name": "LayoutModel",
     "state": {
      "_model_module": "@jupyter-widgets/base",
      "_model_module_version": "1.2.0",
      "_model_name": "LayoutModel",
      "_view_count": null,
      "_view_module": "@jupyter-widgets/base",
      "_view_module_version": "1.2.0",
      "_view_name": "LayoutView",
      "align_content": null,
      "align_items": null,
      "align_self": null,
      "border": null,
      "bottom": null,
      "display": null,
      "flex": null,
      "flex_flow": null,
      "grid_area": null,
      "grid_auto_columns": null,
      "grid_auto_flow": null,
      "grid_auto_rows": null,
      "grid_column": null,
      "grid_gap": null,
      "grid_row": null,
      "grid_template_areas": null,
      "grid_template_columns": null,
      "grid_template_rows": null,
      "height": null,
      "justify_content": null,
      "justify_items": null,
      "left": null,
      "margin": null,
      "max_height": null,
      "max_width": null,
      "min_height": null,
      "min_width": null,
      "object_fit": null,
      "object_position": null,
      "order": null,
      "overflow": null,
      "overflow_x": null,
      "overflow_y": null,
      "padding": null,
      "right": null,
      "top": null,
      "visibility": null,
      "width": null
     }
    },
    "c190a53572394a469139391fbd4074f0": {
     "model_module": "@jupyter-widgets/base",
     "model_module_version": "1.2.0",
     "model_name": "LayoutModel",
     "state": {
      "_model_module": "@jupyter-widgets/base",
      "_model_module_version": "1.2.0",
      "_model_name": "LayoutModel",
      "_view_count": null,
      "_view_module": "@jupyter-widgets/base",
      "_view_module_version": "1.2.0",
      "_view_name": "LayoutView",
      "align_content": null,
      "align_items": null,
      "align_self": null,
      "border": null,
      "bottom": null,
      "display": null,
      "flex": null,
      "flex_flow": null,
      "grid_area": null,
      "grid_auto_columns": null,
      "grid_auto_flow": null,
      "grid_auto_rows": null,
      "grid_column": null,
      "grid_gap": null,
      "grid_row": null,
      "grid_template_areas": null,
      "grid_template_columns": null,
      "grid_template_rows": null,
      "height": null,
      "justify_content": null,
      "justify_items": null,
      "left": null,
      "margin": null,
      "max_height": null,
      "max_width": null,
      "min_height": null,
      "min_width": null,
      "object_fit": null,
      "object_position": null,
      "order": null,
      "overflow": null,
      "overflow_x": null,
      "overflow_y": null,
      "padding": null,
      "right": null,
      "top": null,
      "visibility": null,
      "width": null
     }
    },
    "cfc35b14e9874c6a92c004d009be2dde": {
     "model_module": "@jupyter-widgets/controls",
     "model_module_version": "1.5.0",
     "model_name": "FloatProgressModel",
     "state": {
      "_dom_classes": [],
      "_model_module": "@jupyter-widgets/controls",
      "_model_module_version": "1.5.0",
      "_model_name": "FloatProgressModel",
      "_view_count": null,
      "_view_module": "@jupyter-widgets/controls",
      "_view_module_version": "1.5.0",
      "_view_name": "ProgressView",
      "bar_style": "success",
      "description": "",
      "description_tooltip": null,
      "layout": "IPY_MODEL_6dc0dcf3b102406abe39970220687890",
      "max": 4542,
      "min": 0,
      "orientation": "horizontal",
      "style": "IPY_MODEL_0d34075684734b5081a69120c90e8899",
      "value": 4542
     }
    },
    "d5f297897182429f96dd5f482049e95c": {
     "model_module": "@jupyter-widgets/controls",
     "model_module_version": "1.5.0",
     "model_name": "DescriptionStyleModel",
     "state": {
      "_model_module": "@jupyter-widgets/controls",
      "_model_module_version": "1.5.0",
      "_model_name": "DescriptionStyleModel",
      "_view_count": null,
      "_view_module": "@jupyter-widgets/base",
      "_view_module_version": "1.2.0",
      "_view_name": "StyleView",
      "description_width": ""
     }
    },
    "d7ca9440cdf54b2093b624390e989b18": {
     "model_module": "@jupyter-widgets/controls",
     "model_module_version": "1.5.0",
     "model_name": "DescriptionStyleModel",
     "state": {
      "_model_module": "@jupyter-widgets/controls",
      "_model_module_version": "1.5.0",
      "_model_name": "DescriptionStyleModel",
      "_view_count": null,
      "_view_module": "@jupyter-widgets/base",
      "_view_module_version": "1.2.0",
      "_view_name": "StyleView",
      "description_width": ""
     }
    },
    "fb30a3297aa7423699f4d231df567537": {
     "model_module": "@jupyter-widgets/controls",
     "model_module_version": "1.5.0",
     "model_name": "HBoxModel",
     "state": {
      "_dom_classes": [],
      "_model_module": "@jupyter-widgets/controls",
      "_model_module_version": "1.5.0",
      "_model_name": "HBoxModel",
      "_view_count": null,
      "_view_module": "@jupyter-widgets/controls",
      "_view_module_version": "1.5.0",
      "_view_name": "HBoxView",
      "box_style": "",
      "children": [
       "IPY_MODEL_50a937c4bf3948b19eb776306a3214ad",
       "IPY_MODEL_fcb0e52c2b854e31964a16692b30726a",
       "IPY_MODEL_4daae5b5d788429bafb097d7c1c6f08d"
      ],
      "layout": "IPY_MODEL_165c9f3c951348f0addd59ccf4eb991f"
     }
    },
    "fc60571224334b32b7370f2f117491a1": {
     "model_module": "@jupyter-widgets/controls",
     "model_module_version": "1.5.0",
     "model_name": "HTMLModel",
     "state": {
      "_dom_classes": [],
      "_model_module": "@jupyter-widgets/controls",
      "_model_module_version": "1.5.0",
      "_model_name": "HTMLModel",
      "_view_count": null,
      "_view_module": "@jupyter-widgets/controls",
      "_view_module_version": "1.5.0",
      "_view_name": "HTMLView",
      "description": "",
      "description_tooltip": null,
      "layout": "IPY_MODEL_ba257ea6c6db463bbdae73bfa7437c83",
      "placeholder": "​",
      "style": "IPY_MODEL_d7ca9440cdf54b2093b624390e989b18",
      "value": ""
     }
    },
    "fcb0e52c2b854e31964a16692b30726a": {
     "model_module": "@jupyter-widgets/controls",
     "model_module_version": "1.5.0",
     "model_name": "FloatProgressModel",
     "state": {
      "_dom_classes": [],
      "_model_module": "@jupyter-widgets/controls",
      "_model_module_version": "1.5.0",
      "_model_name": "FloatProgressModel",
      "_view_count": null,
      "_view_module": "@jupyter-widgets/controls",
      "_view_module_version": "1.5.0",
      "_view_name": "ProgressView",
      "bar_style": "success",
      "description": "",
      "description_tooltip": null,
      "layout": "IPY_MODEL_7a6d35a778c84cb081a4fde3b21dc835",
      "max": 28881,
      "min": 0,
      "orientation": "horizontal",
      "style": "IPY_MODEL_8f4a0cc36828418e9428c705d3545cea",
      "value": 28881
     }
    }
   }
  }
 },
 "nbformat": 4,
 "nbformat_minor": 4
}
